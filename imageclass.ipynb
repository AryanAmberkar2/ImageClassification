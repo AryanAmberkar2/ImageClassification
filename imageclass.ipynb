{
 "cells": [
  {
   "cell_type": "code",
   "execution_count": 28,
   "metadata": {},
   "outputs": [],
   "source": [
    "import tensorflow as tf\n",
    "import os "
   ]
  },
  {
   "cell_type": "code",
   "execution_count": 29,
   "metadata": {},
   "outputs": [],
   "source": [
    "import cv2\n",
    "import imghdr"
   ]
  },
  {
   "cell_type": "code",
   "execution_count": 30,
   "metadata": {},
   "outputs": [],
   "source": [
    "data_directory = 'data'"
   ]
  },
  {
   "cell_type": "code",
   "execution_count": 31,
   "metadata": {},
   "outputs": [],
   "source": [
    "image_extensions = ['png', 'bmp', 'jpeg', 'jpg']"
   ]
  },
  {
   "cell_type": "code",
   "execution_count": 33,
   "metadata": {},
   "outputs": [
    {
     "name": "stderr",
     "output_type": "stream",
     "text": [
      "libpng warning: iCCP: profile 'ICC Profile': 0h: PCS illuminant is not D50\n",
      "libpng warning: iCCP: known incorrect sRGB profile\n",
      "libpng warning: iCCP: known incorrect sRGB profile\n"
     ]
    },
    {
     "name": "stdout",
     "output_type": "stream",
     "text": [
      "Invalid image type\n"
     ]
    },
    {
     "name": "stderr",
     "output_type": "stream",
     "text": [
      "libpng warning: iCCP: known incorrect sRGB profile\n",
      "libpng warning: iCCP: cHRM chunk does not match sRGB\n",
      "libpng warning: iCCP: profile 'ICC Profile': 0h: PCS illuminant is not D50\n"
     ]
    }
   ],
   "source": [
    "for image_type in os.listdir(data_directory):\n",
    "    for image in os.listdir(os.path.join(data_directory, image_type)):\n",
    "        path_of_image = os.path.join(data_directory, image_type, image)\n",
    "        try:\n",
    "            imag = cv2.imread(path_of_image)\n",
    "            type1 = imghdr.what(path_of_image)\n",
    "            if type1 not in image_extensions:\n",
    "                print(\"Invalid image type\")\n",
    "                os.remove(path_of_image)\n",
    "        except Exception as e:\n",
    "            print(\"Image issue\")"
   ]
  },
  {
   "cell_type": "code",
   "execution_count": 34,
   "metadata": {},
   "outputs": [
    {
     "data": {
      "text/plain": [
       "tensorflow.python.data.ops.dataset_ops.DatasetV2"
      ]
     },
     "execution_count": 34,
     "metadata": {},
     "output_type": "execute_result"
    }
   ],
   "source": [
    "tf.data.Dataset"
   ]
  },
  {
   "cell_type": "code",
   "execution_count": 35,
   "metadata": {},
   "outputs": [],
   "source": [
    "import numpy as np\n",
    "from matplotlib import pyplot as plt"
   ]
  },
  {
   "cell_type": "code",
   "execution_count": 36,
   "metadata": {},
   "outputs": [
    {
     "name": "stdout",
     "output_type": "stream",
     "text": [
      "Found 822 files belonging to 4 classes.\n"
     ]
    }
   ],
   "source": [
    "#data = tf.keras.utils.image_dataset_from_directory('data')\n",
    "data = tf.keras.utils.image_dataset_from_directory('data', label_mode='categorical', batch_size=32, image_size=(256, 256))"
   ]
  },
  {
   "cell_type": "code",
   "execution_count": 37,
   "metadata": {},
   "outputs": [],
   "source": [
    "class_names = data.class_names"
   ]
  },
  {
   "cell_type": "code",
   "execution_count": 38,
   "metadata": {},
   "outputs": [],
   "source": [
    "data_iteration = data.as_numpy_iterator()"
   ]
  },
  {
   "cell_type": "code",
   "execution_count": 39,
   "metadata": {},
   "outputs": [
    {
     "name": "stderr",
     "output_type": "stream",
     "text": [
      "2023-10-22 12:31:57.052606: W tensorflow/core/lib/png/png_io.cc:88] PNG warning: iCCP: known incorrect sRGB profile\n",
      "2023-10-22 12:31:57.451851: W tensorflow/core/lib/png/png_io.cc:88] PNG warning: iCCP: known incorrect sRGB profile\n",
      "2023-10-22 12:31:57.451885: W tensorflow/core/lib/png/png_io.cc:88] PNG warning: iCCP: cHRM chunk does not match sRGB\n"
     ]
    }
   ],
   "source": [
    "data_snippet = data_iteration.next()"
   ]
  },
  {
   "cell_type": "code",
   "execution_count": 40,
   "metadata": {},
   "outputs": [
    {
     "data": {
      "text/plain": [
       "array([[0., 0., 1., 0.],\n",
       "       [1., 0., 0., 0.],\n",
       "       [1., 0., 0., 0.],\n",
       "       [0., 1., 0., 0.],\n",
       "       [0., 0., 1., 0.],\n",
       "       [0., 1., 0., 0.],\n",
       "       [0., 0., 1., 0.],\n",
       "       [0., 1., 0., 0.],\n",
       "       [0., 0., 1., 0.],\n",
       "       [1., 0., 0., 0.],\n",
       "       [0., 1., 0., 0.],\n",
       "       [1., 0., 0., 0.],\n",
       "       [1., 0., 0., 0.],\n",
       "       [1., 0., 0., 0.],\n",
       "       [0., 0., 1., 0.],\n",
       "       [0., 0., 0., 1.],\n",
       "       [0., 1., 0., 0.],\n",
       "       [1., 0., 0., 0.],\n",
       "       [0., 0., 1., 0.],\n",
       "       [0., 0., 1., 0.],\n",
       "       [0., 1., 0., 0.],\n",
       "       [1., 0., 0., 0.],\n",
       "       [0., 0., 0., 1.],\n",
       "       [0., 0., 1., 0.],\n",
       "       [1., 0., 0., 0.],\n",
       "       [0., 0., 1., 0.],\n",
       "       [1., 0., 0., 0.],\n",
       "       [0., 1., 0., 0.],\n",
       "       [0., 0., 0., 1.],\n",
       "       [1., 0., 0., 0.],\n",
       "       [1., 0., 0., 0.],\n",
       "       [1., 0., 0., 0.]], dtype=float32)"
      ]
     },
     "execution_count": 40,
     "metadata": {},
     "output_type": "execute_result"
    }
   ],
   "source": [
    "data_snippet[1]"
   ]
  },
  {
   "cell_type": "code",
   "execution_count": 44,
   "metadata": {},
   "outputs": [],
   "source": [
    "# [0,0,1,0] = normal brain\n",
    "# [1,0,0,0] = alzheimers\n",
    "# [0,1,0,0] brain tumor\n",
    "# [0,0,0,1] = parkinson's"
   ]
  },
  {
   "cell_type": "code",
   "execution_count": 45,
   "metadata": {},
   "outputs": [
    {
     "data": {
      "text/plain": [
       "255.0"
      ]
     },
     "execution_count": 45,
     "metadata": {},
     "output_type": "execute_result"
    }
   ],
   "source": [
    "data_snippet[0].max()"
   ]
  },
  {
   "cell_type": "code",
   "execution_count": 46,
   "metadata": {},
   "outputs": [],
   "source": [
    "data = data.map(lambda x, y: (x / 255, y))"
   ]
  },
  {
   "cell_type": "code",
   "execution_count": 47,
   "metadata": {},
   "outputs": [
    {
     "name": "stderr",
     "output_type": "stream",
     "text": [
      "2023-10-22 12:36:19.536805: W tensorflow/core/lib/png/png_io.cc:88] PNG warning: iCCP: known incorrect sRGB profile\n",
      "2023-10-22 12:36:19.957943: W tensorflow/core/lib/png/png_io.cc:88] PNG warning: iCCP: known incorrect sRGB profile\n",
      "2023-10-22 12:36:19.957972: W tensorflow/core/lib/png/png_io.cc:88] PNG warning: iCCP: cHRM chunk does not match sRGB\n"
     ]
    },
    {
     "data": {
      "text/plain": [
       "(array([[[[0.00000000e+00, 0.00000000e+00, 2.78431386e-01],\n",
       "          [0.00000000e+00, 0.00000000e+00, 2.78431386e-01],\n",
       "          [0.00000000e+00, 0.00000000e+00, 2.78431386e-01],\n",
       "          ...,\n",
       "          [0.00000000e+00, 3.92156886e-03, 2.82352954e-01],\n",
       "          [0.00000000e+00, 7.81250012e-04, 2.79212624e-01],\n",
       "          [0.00000000e+00, 0.00000000e+00, 2.78431386e-01]],\n",
       " \n",
       "         [[0.00000000e+00, 0.00000000e+00, 2.78431386e-01],\n",
       "          [0.00000000e+00, 0.00000000e+00, 2.78431386e-01],\n",
       "          [0.00000000e+00, 0.00000000e+00, 2.78431386e-01],\n",
       "          ...,\n",
       "          [0.00000000e+00, 3.92156886e-03, 2.82352954e-01],\n",
       "          [0.00000000e+00, 7.81250012e-04, 2.79212624e-01],\n",
       "          [0.00000000e+00, 0.00000000e+00, 2.78431386e-01]],\n",
       " \n",
       "         [[0.00000000e+00, 0.00000000e+00, 2.78431386e-01],\n",
       "          [0.00000000e+00, 0.00000000e+00, 2.78431386e-01],\n",
       "          [0.00000000e+00, 0.00000000e+00, 2.78431386e-01],\n",
       "          ...,\n",
       "          [0.00000000e+00, 3.92156886e-03, 2.82352954e-01],\n",
       "          [0.00000000e+00, 7.81250012e-04, 2.79212624e-01],\n",
       "          [0.00000000e+00, 0.00000000e+00, 2.78431386e-01]],\n",
       " \n",
       "         ...,\n",
       " \n",
       "         [[0.00000000e+00, 3.92156886e-03, 2.82352954e-01],\n",
       "          [0.00000000e+00, 3.92156886e-03, 2.82352954e-01],\n",
       "          [0.00000000e+00, 3.92156886e-03, 2.82352954e-01],\n",
       "          ...,\n",
       "          [9.40563716e-03, 0.00000000e+00, 2.87055761e-01],\n",
       "          [8.15441646e-03, 0.00000000e+00, 2.86430150e-01],\n",
       "          [7.84313772e-03, 0.00000000e+00, 2.86274523e-01]],\n",
       " \n",
       "         [[0.00000000e+00, 3.92156886e-03, 2.82352954e-01],\n",
       "          [0.00000000e+00, 3.92156886e-03, 2.82352954e-01],\n",
       "          [0.00000000e+00, 3.92156886e-03, 2.82352954e-01],\n",
       "          ...,\n",
       "          [4.07475512e-03, 0.00000000e+00, 2.84390330e-01],\n",
       "          [7.09240464e-03, 0.00000000e+00, 2.85899132e-01],\n",
       "          [7.84313772e-03, 0.00000000e+00, 2.86274523e-01]],\n",
       " \n",
       "         [[0.00000000e+00, 3.92156886e-03, 2.82352954e-01],\n",
       "          [0.00000000e+00, 3.92156886e-03, 2.82352954e-01],\n",
       "          [0.00000000e+00, 3.92156886e-03, 2.82352954e-01],\n",
       "          ...,\n",
       "          [0.00000000e+00, 0.00000000e+00, 2.82352954e-01],\n",
       "          [6.28063735e-03, 0.00000000e+00, 2.85493255e-01],\n",
       "          [7.84313772e-03, 0.00000000e+00, 2.86274523e-01]]],\n",
       " \n",
       " \n",
       "        [[[1.00000000e+00, 1.00000000e+00, 1.00000000e+00],\n",
       "          [1.00000000e+00, 1.00000000e+00, 1.00000000e+00],\n",
       "          [1.00000000e+00, 1.00000000e+00, 1.00000000e+00],\n",
       "          ...,\n",
       "          [1.00000000e+00, 1.00000000e+00, 1.00000000e+00],\n",
       "          [1.00000000e+00, 1.00000000e+00, 1.00000000e+00],\n",
       "          [1.00000000e+00, 1.00000000e+00, 1.00000000e+00]],\n",
       " \n",
       "         [[1.00000000e+00, 1.00000000e+00, 1.00000000e+00],\n",
       "          [1.00000000e+00, 1.00000000e+00, 1.00000000e+00],\n",
       "          [1.00000000e+00, 1.00000000e+00, 1.00000000e+00],\n",
       "          ...,\n",
       "          [1.00000000e+00, 1.00000000e+00, 1.00000000e+00],\n",
       "          [1.00000000e+00, 1.00000000e+00, 1.00000000e+00],\n",
       "          [1.00000000e+00, 1.00000000e+00, 1.00000000e+00]],\n",
       " \n",
       "         [[1.00000000e+00, 1.00000000e+00, 1.00000000e+00],\n",
       "          [1.00000000e+00, 1.00000000e+00, 1.00000000e+00],\n",
       "          [1.00000000e+00, 1.00000000e+00, 1.00000000e+00],\n",
       "          ...,\n",
       "          [1.00000000e+00, 1.00000000e+00, 1.00000000e+00],\n",
       "          [1.00000000e+00, 1.00000000e+00, 1.00000000e+00],\n",
       "          [1.00000000e+00, 1.00000000e+00, 1.00000000e+00]],\n",
       " \n",
       "         ...,\n",
       " \n",
       "         [[1.00000000e+00, 1.00000000e+00, 1.00000000e+00],\n",
       "          [1.00000000e+00, 1.00000000e+00, 1.00000000e+00],\n",
       "          [1.00000000e+00, 1.00000000e+00, 1.00000000e+00],\n",
       "          ...,\n",
       "          [1.00000000e+00, 1.00000000e+00, 1.00000000e+00],\n",
       "          [1.00000000e+00, 1.00000000e+00, 1.00000000e+00],\n",
       "          [1.00000000e+00, 1.00000000e+00, 1.00000000e+00]],\n",
       " \n",
       "         [[1.00000000e+00, 1.00000000e+00, 1.00000000e+00],\n",
       "          [1.00000000e+00, 1.00000000e+00, 1.00000000e+00],\n",
       "          [1.00000000e+00, 1.00000000e+00, 1.00000000e+00],\n",
       "          ...,\n",
       "          [1.00000000e+00, 1.00000000e+00, 1.00000000e+00],\n",
       "          [1.00000000e+00, 1.00000000e+00, 1.00000000e+00],\n",
       "          [1.00000000e+00, 1.00000000e+00, 1.00000000e+00]],\n",
       " \n",
       "         [[1.00000000e+00, 1.00000000e+00, 1.00000000e+00],\n",
       "          [1.00000000e+00, 1.00000000e+00, 1.00000000e+00],\n",
       "          [1.00000000e+00, 1.00000000e+00, 1.00000000e+00],\n",
       "          ...,\n",
       "          [1.00000000e+00, 1.00000000e+00, 1.00000000e+00],\n",
       "          [1.00000000e+00, 1.00000000e+00, 1.00000000e+00],\n",
       "          [1.00000000e+00, 1.00000000e+00, 1.00000000e+00]]],\n",
       " \n",
       " \n",
       "        [[[1.00000000e+00, 1.00000000e+00, 1.00000000e+00],\n",
       "          [1.00000000e+00, 1.00000000e+00, 1.00000000e+00],\n",
       "          [1.00000000e+00, 1.00000000e+00, 1.00000000e+00],\n",
       "          ...,\n",
       "          [1.00000000e+00, 1.00000000e+00, 1.00000000e+00],\n",
       "          [1.00000000e+00, 1.00000000e+00, 1.00000000e+00],\n",
       "          [1.00000000e+00, 1.00000000e+00, 1.00000000e+00]],\n",
       " \n",
       "         [[1.00000000e+00, 1.00000000e+00, 1.00000000e+00],\n",
       "          [1.00000000e+00, 1.00000000e+00, 1.00000000e+00],\n",
       "          [1.00000000e+00, 1.00000000e+00, 1.00000000e+00],\n",
       "          ...,\n",
       "          [1.00000000e+00, 1.00000000e+00, 1.00000000e+00],\n",
       "          [1.00000000e+00, 1.00000000e+00, 1.00000000e+00],\n",
       "          [1.00000000e+00, 1.00000000e+00, 1.00000000e+00]],\n",
       " \n",
       "         [[1.00000000e+00, 1.00000000e+00, 1.00000000e+00],\n",
       "          [1.00000000e+00, 1.00000000e+00, 1.00000000e+00],\n",
       "          [1.00000000e+00, 1.00000000e+00, 1.00000000e+00],\n",
       "          ...,\n",
       "          [1.00000000e+00, 1.00000000e+00, 1.00000000e+00],\n",
       "          [1.00000000e+00, 1.00000000e+00, 1.00000000e+00],\n",
       "          [1.00000000e+00, 1.00000000e+00, 1.00000000e+00]],\n",
       " \n",
       "         ...,\n",
       " \n",
       "         [[1.00000000e+00, 1.00000000e+00, 1.00000000e+00],\n",
       "          [1.00000000e+00, 1.00000000e+00, 1.00000000e+00],\n",
       "          [1.00000000e+00, 1.00000000e+00, 1.00000000e+00],\n",
       "          ...,\n",
       "          [1.00000000e+00, 1.00000000e+00, 1.00000000e+00],\n",
       "          [1.00000000e+00, 1.00000000e+00, 1.00000000e+00],\n",
       "          [1.00000000e+00, 1.00000000e+00, 1.00000000e+00]],\n",
       " \n",
       "         [[1.00000000e+00, 1.00000000e+00, 1.00000000e+00],\n",
       "          [1.00000000e+00, 1.00000000e+00, 1.00000000e+00],\n",
       "          [1.00000000e+00, 1.00000000e+00, 1.00000000e+00],\n",
       "          ...,\n",
       "          [1.00000000e+00, 1.00000000e+00, 1.00000000e+00],\n",
       "          [1.00000000e+00, 1.00000000e+00, 1.00000000e+00],\n",
       "          [1.00000000e+00, 1.00000000e+00, 1.00000000e+00]],\n",
       " \n",
       "         [[1.00000000e+00, 1.00000000e+00, 1.00000000e+00],\n",
       "          [1.00000000e+00, 1.00000000e+00, 1.00000000e+00],\n",
       "          [1.00000000e+00, 1.00000000e+00, 1.00000000e+00],\n",
       "          ...,\n",
       "          [1.00000000e+00, 1.00000000e+00, 1.00000000e+00],\n",
       "          [1.00000000e+00, 1.00000000e+00, 1.00000000e+00],\n",
       "          [1.00000000e+00, 1.00000000e+00, 1.00000000e+00]]],\n",
       " \n",
       " \n",
       "        ...,\n",
       " \n",
       " \n",
       "        [[[8.62515345e-02, 8.62515345e-02, 8.62515345e-02],\n",
       "          [8.23529437e-02, 8.23529437e-02, 8.23529437e-02],\n",
       "          [8.23529437e-02, 8.23529437e-02, 8.23529437e-02],\n",
       "          ...,\n",
       "          [5.17846197e-02, 5.17846197e-02, 5.17846197e-02],\n",
       "          [5.48330285e-02, 5.48330285e-02, 5.48330285e-02],\n",
       "          [3.00513178e-01, 3.00513178e-01, 3.00513178e-01]],\n",
       " \n",
       "         [[3.08281835e-02, 3.08281835e-02, 3.08281835e-02],\n",
       "          [2.94347424e-02, 2.94347424e-02, 2.94347424e-02],\n",
       "          [2.94347424e-02, 2.94347424e-02, 2.94347424e-02],\n",
       "          ...,\n",
       "          [2.34011337e-02, 2.34011337e-02, 2.34011337e-02],\n",
       "          [2.46383511e-02, 2.46383511e-02, 2.46383511e-02],\n",
       "          [2.72779346e-01, 2.72779346e-01, 2.72779346e-01]],\n",
       " \n",
       "         [[7.92738982e-03, 7.92738982e-03, 7.92738982e-03],\n",
       "          [7.89951999e-03, 7.89951999e-03, 7.89951999e-03],\n",
       "          [6.34191185e-03, 6.34191185e-03, 6.34191185e-03],\n",
       "          ...,\n",
       "          [4.62820008e-03, 4.62820008e-03, 4.62820008e-03],\n",
       "          [4.67218133e-03, 4.67218133e-03, 4.67218133e-03],\n",
       "          [2.49453425e-01, 2.49453425e-01, 2.49453425e-01]],\n",
       " \n",
       "         ...,\n",
       " \n",
       "         [[7.84313772e-03, 7.84313772e-03, 7.84313772e-03],\n",
       "          [7.84313772e-03, 7.84313772e-03, 7.84313772e-03],\n",
       "          [7.84313772e-03, 7.84313772e-03, 7.84313772e-03],\n",
       "          ...,\n",
       "          [6.99962536e-03, 6.99962536e-03, 6.99962536e-03],\n",
       "          [1.40603753e-02, 1.40603753e-02, 1.40603753e-02],\n",
       "          [2.21640334e-01, 2.21640334e-01, 2.21640334e-01]],\n",
       " \n",
       "         [[1.62025124e-01, 1.62025124e-01, 1.62025124e-01],\n",
       "          [1.62025124e-01, 1.62025124e-01, 1.62025124e-01],\n",
       "          [1.62025124e-01, 1.62025124e-01, 1.62025124e-01],\n",
       "          ...,\n",
       "          [1.56784028e-01, 1.56784028e-01, 1.56784028e-01],\n",
       "          [1.55046478e-01, 1.55046478e-01, 1.55046478e-01],\n",
       "          [3.50776345e-01, 3.50776345e-01, 3.50776345e-01]],\n",
       " \n",
       "         [[4.39215690e-01, 4.39215690e-01, 4.39215690e-01],\n",
       "          [4.39215690e-01, 4.39215690e-01, 4.39215690e-01],\n",
       "          [4.39215690e-01, 4.39215690e-01, 4.39215690e-01],\n",
       "          ...,\n",
       "          [4.31602329e-01, 4.31602329e-01, 4.31602329e-01],\n",
       "          [4.19814646e-01, 4.19814646e-01, 4.19814646e-01],\n",
       "          [6.02841616e-01, 6.02841616e-01, 6.02841616e-01]]],\n",
       " \n",
       " \n",
       "        [[[0.00000000e+00, 0.00000000e+00, 0.00000000e+00],\n",
       "          [0.00000000e+00, 0.00000000e+00, 0.00000000e+00],\n",
       "          [0.00000000e+00, 0.00000000e+00, 0.00000000e+00],\n",
       "          ...,\n",
       "          [0.00000000e+00, 0.00000000e+00, 0.00000000e+00],\n",
       "          [0.00000000e+00, 0.00000000e+00, 0.00000000e+00],\n",
       "          [0.00000000e+00, 0.00000000e+00, 0.00000000e+00]],\n",
       " \n",
       "         [[0.00000000e+00, 0.00000000e+00, 0.00000000e+00],\n",
       "          [0.00000000e+00, 0.00000000e+00, 0.00000000e+00],\n",
       "          [0.00000000e+00, 0.00000000e+00, 0.00000000e+00],\n",
       "          ...,\n",
       "          [0.00000000e+00, 0.00000000e+00, 0.00000000e+00],\n",
       "          [0.00000000e+00, 0.00000000e+00, 0.00000000e+00],\n",
       "          [0.00000000e+00, 0.00000000e+00, 0.00000000e+00]],\n",
       " \n",
       "         [[0.00000000e+00, 0.00000000e+00, 0.00000000e+00],\n",
       "          [0.00000000e+00, 0.00000000e+00, 0.00000000e+00],\n",
       "          [0.00000000e+00, 0.00000000e+00, 0.00000000e+00],\n",
       "          ...,\n",
       "          [0.00000000e+00, 0.00000000e+00, 0.00000000e+00],\n",
       "          [0.00000000e+00, 0.00000000e+00, 0.00000000e+00],\n",
       "          [0.00000000e+00, 0.00000000e+00, 0.00000000e+00]],\n",
       " \n",
       "         ...,\n",
       " \n",
       "         [[3.92156886e-03, 3.92156886e-03, 3.92156886e-03],\n",
       "          [3.92156886e-03, 3.92156886e-03, 3.92156886e-03],\n",
       "          [3.92156886e-03, 3.92156886e-03, 3.92156886e-03],\n",
       "          ...,\n",
       "          [3.92156886e-03, 3.92156886e-03, 3.92156886e-03],\n",
       "          [3.92156886e-03, 3.92156886e-03, 3.92156886e-03],\n",
       "          [3.92156886e-03, 3.92156886e-03, 3.92156886e-03]],\n",
       " \n",
       "         [[3.92156886e-03, 3.92156886e-03, 3.92156886e-03],\n",
       "          [3.92156886e-03, 3.92156886e-03, 3.92156886e-03],\n",
       "          [3.92156886e-03, 3.92156886e-03, 3.92156886e-03],\n",
       "          ...,\n",
       "          [3.92156886e-03, 3.92156886e-03, 3.92156886e-03],\n",
       "          [3.92156886e-03, 3.92156886e-03, 3.92156886e-03],\n",
       "          [3.92156886e-03, 3.92156886e-03, 3.92156886e-03]],\n",
       " \n",
       "         [[3.92156886e-03, 3.92156886e-03, 3.92156886e-03],\n",
       "          [3.92156886e-03, 3.92156886e-03, 3.92156886e-03],\n",
       "          [3.92156886e-03, 3.92156886e-03, 3.92156886e-03],\n",
       "          ...,\n",
       "          [3.92156886e-03, 3.92156886e-03, 3.92156886e-03],\n",
       "          [3.92156886e-03, 3.92156886e-03, 3.92156886e-03],\n",
       "          [3.92156886e-03, 3.92156886e-03, 3.92156886e-03]]],\n",
       " \n",
       " \n",
       "        [[[6.23529434e-01, 6.74509823e-01, 6.98039234e-01],\n",
       "          [6.24540448e-01, 6.75520837e-01, 6.99050248e-01],\n",
       "          [6.27451003e-01, 6.78431392e-01, 7.01960802e-01],\n",
       "          ...,\n",
       "          [3.20894599e-01, 3.13051462e-01, 3.32659304e-01],\n",
       "          [4.05453444e-01, 3.97610307e-01, 4.17218149e-01],\n",
       "          [4.23192412e-01, 4.15349275e-01, 4.34957117e-01]],\n",
       " \n",
       "         [[6.23529434e-01, 6.74509823e-01, 6.98039234e-01],\n",
       "          [6.24540448e-01, 6.75520837e-01, 6.99050248e-01],\n",
       "          [6.27451003e-01, 6.78431392e-01, 7.01960802e-01],\n",
       "          ...,\n",
       "          [3.20894599e-01, 3.13051462e-01, 3.32659304e-01],\n",
       "          [4.05453444e-01, 3.97610307e-01, 4.17218149e-01],\n",
       "          [4.23192412e-01, 4.15349275e-01, 4.34957117e-01]],\n",
       " \n",
       "         [[6.23529434e-01, 6.74509823e-01, 6.98039234e-01],\n",
       "          [6.24540448e-01, 6.75520837e-01, 6.99050248e-01],\n",
       "          [6.27451003e-01, 6.78431392e-01, 7.01960802e-01],\n",
       "          ...,\n",
       "          [3.20894599e-01, 3.13051462e-01, 3.32659304e-01],\n",
       "          [4.05453444e-01, 3.97610307e-01, 4.17218149e-01],\n",
       "          [4.23192412e-01, 4.15349275e-01, 4.34957117e-01]],\n",
       " \n",
       "         ...,\n",
       " \n",
       "         [[1.13725491e-01, 7.84313753e-02, 5.88235296e-02],\n",
       "          [1.14736520e-01, 7.94424042e-02, 5.98345585e-02],\n",
       "          [1.19332105e-01, 8.40379894e-02, 6.44301474e-02],\n",
       "          ...,\n",
       "          [1.13725491e-01, 7.45098069e-02, 3.52941193e-02],\n",
       "          [1.13725491e-01, 7.45098069e-02, 3.52941193e-02],\n",
       "          [1.13725491e-01, 7.45098069e-02, 3.52941193e-02]],\n",
       " \n",
       "         [[1.13725491e-01, 7.84313753e-02, 5.88235296e-02],\n",
       "          [1.14736520e-01, 7.94424042e-02, 5.98345585e-02],\n",
       "          [1.19332105e-01, 8.40379894e-02, 6.44301474e-02],\n",
       "          ...,\n",
       "          [1.13725491e-01, 7.45098069e-02, 3.52941193e-02],\n",
       "          [1.13725491e-01, 7.45098069e-02, 3.52941193e-02],\n",
       "          [1.13725491e-01, 7.45098069e-02, 3.52941193e-02]],\n",
       " \n",
       "         [[1.13725491e-01, 7.84313753e-02, 5.88235296e-02],\n",
       "          [1.14736520e-01, 7.94424042e-02, 5.98345585e-02],\n",
       "          [1.19332105e-01, 8.40379894e-02, 6.44301474e-02],\n",
       "          ...,\n",
       "          [1.13725491e-01, 7.45098069e-02, 3.52941193e-02],\n",
       "          [1.13725491e-01, 7.45098069e-02, 3.52941193e-02],\n",
       "          [1.13725491e-01, 7.45098069e-02, 3.52941193e-02]]]],\n",
       "       dtype=float32),\n",
       " array([[0., 0., 1., 0.],\n",
       "        [0., 0., 1., 0.],\n",
       "        [0., 0., 1., 0.],\n",
       "        [0., 0., 1., 0.],\n",
       "        [1., 0., 0., 0.],\n",
       "        [0., 1., 0., 0.],\n",
       "        [0., 1., 0., 0.],\n",
       "        [1., 0., 0., 0.],\n",
       "        [0., 0., 1., 0.],\n",
       "        [1., 0., 0., 0.],\n",
       "        [1., 0., 0., 0.],\n",
       "        [0., 0., 1., 0.],\n",
       "        [0., 0., 0., 1.],\n",
       "        [0., 0., 0., 1.],\n",
       "        [1., 0., 0., 0.],\n",
       "        [1., 0., 0., 0.],\n",
       "        [0., 0., 1., 0.],\n",
       "        [1., 0., 0., 0.],\n",
       "        [1., 0., 0., 0.],\n",
       "        [1., 0., 0., 0.],\n",
       "        [0., 1., 0., 0.],\n",
       "        [0., 0., 1., 0.],\n",
       "        [0., 0., 0., 1.],\n",
       "        [0., 0., 0., 1.],\n",
       "        [0., 0., 0., 1.],\n",
       "        [0., 1., 0., 0.],\n",
       "        [0., 0., 0., 1.],\n",
       "        [1., 0., 0., 0.],\n",
       "        [0., 0., 0., 1.],\n",
       "        [0., 1., 0., 0.],\n",
       "        [1., 0., 0., 0.],\n",
       "        [1., 0., 0., 0.]], dtype=float32))"
      ]
     },
     "execution_count": 47,
     "metadata": {},
     "output_type": "execute_result"
    }
   ],
   "source": [
    "data.as_numpy_iterator().next()"
   ]
  },
  {
   "cell_type": "code",
   "execution_count": 48,
   "metadata": {},
   "outputs": [],
   "source": [
    "training_size = int(len(data) * 0.7)\n",
    "validation_size = int(len(data) * 0.2)\n",
    "test_size = int(len(data) * 0.1)"
   ]
  },
  {
   "cell_type": "code",
   "execution_count": 49,
   "metadata": {},
   "outputs": [],
   "source": [
    "train_model = data.take(training_size)\n",
    "validation_model = data.skip(training_size).take(validation_size)\n",
    "test_model = data.skip(training_size+validation_size).take(test_size)\n"
   ]
  },
  {
   "cell_type": "code",
   "execution_count": 50,
   "metadata": {},
   "outputs": [],
   "source": [
    "from tensorflow.keras.models import Sequential\n",
    "from tensorflow.keras.layers import Conv2D, MaxPooling2D, Dense, Flatten"
   ]
  },
  {
   "cell_type": "code",
   "execution_count": 51,
   "metadata": {},
   "outputs": [],
   "source": [
    "full_model = Sequential()"
   ]
  },
  {
   "cell_type": "code",
   "execution_count": 52,
   "metadata": {},
   "outputs": [],
   "source": [
    "full_model.add(Conv2D(16, (3,3), 1, activation='relu', input_shape=(256,256,3)))\n",
    "full_model.add(MaxPooling2D())\n",
    "\n",
    "full_model.add(Conv2D(32, (3,3), 1, activation='relu'))\n",
    "full_model.add(MaxPooling2D())\n",
    "\n",
    "full_model.add(Conv2D(16, (3,3), 1, activation='relu'))\n",
    "full_model.add(MaxPooling2D())\n",
    "\n",
    "full_model.add(Flatten())\n",
    "\n",
    "full_model.add(Dense(256, activation='relu'))\n",
    "full_model.add(Dense(4, activation='softmax'))"
   ]
  },
  {
   "cell_type": "code",
   "execution_count": 53,
   "metadata": {},
   "outputs": [],
   "source": [
    "#full_model.compile('adam', loss=tf.losses.BinaryCrossentropy(), metrics=['accuracy'])\n",
    "full_model.compile('adam', loss=tf.losses.CategoricalCrossentropy(), metrics=['accuracy'])"
   ]
  },
  {
   "cell_type": "code",
   "execution_count": 54,
   "metadata": {},
   "outputs": [
    {
     "name": "stdout",
     "output_type": "stream",
     "text": [
      "Model: \"sequential\"\n",
      "_________________________________________________________________\n",
      " Layer (type)                Output Shape              Param #   \n",
      "=================================================================\n",
      " conv2d (Conv2D)             (None, 254, 254, 16)      448       \n",
      "                                                                 \n",
      " max_pooling2d (MaxPooling2  (None, 127, 127, 16)      0         \n",
      " D)                                                              \n",
      "                                                                 \n",
      " conv2d_1 (Conv2D)           (None, 125, 125, 32)      4640      \n",
      "                                                                 \n",
      " max_pooling2d_1 (MaxPoolin  (None, 62, 62, 32)        0         \n",
      " g2D)                                                            \n",
      "                                                                 \n",
      " conv2d_2 (Conv2D)           (None, 60, 60, 16)        4624      \n",
      "                                                                 \n",
      " max_pooling2d_2 (MaxPoolin  (None, 30, 30, 16)        0         \n",
      " g2D)                                                            \n",
      "                                                                 \n",
      " flatten (Flatten)           (None, 14400)             0         \n",
      "                                                                 \n",
      " dense (Dense)               (None, 256)               3686656   \n",
      "                                                                 \n",
      " dense_1 (Dense)             (None, 4)                 1028      \n",
      "                                                                 \n",
      "=================================================================\n",
      "Total params: 3697396 (14.10 MB)\n",
      "Trainable params: 3697396 (14.10 MB)\n",
      "Non-trainable params: 0 (0.00 Byte)\n",
      "_________________________________________________________________\n"
     ]
    }
   ],
   "source": [
    "full_model.summary()"
   ]
  },
  {
   "cell_type": "code",
   "execution_count": 55,
   "metadata": {},
   "outputs": [],
   "source": [
    "logDir = 'logs'"
   ]
  },
  {
   "cell_type": "code",
   "execution_count": 56,
   "metadata": {},
   "outputs": [],
   "source": [
    "tensorboard_call = tf.keras.callbacks.TensorBoard(log_dir = logDir)"
   ]
  },
  {
   "cell_type": "code",
   "execution_count": 57,
   "metadata": {},
   "outputs": [
    {
     "name": "stdout",
     "output_type": "stream",
     "text": [
      "Epoch 1/20\n"
     ]
    },
    {
     "name": "stderr",
     "output_type": "stream",
     "text": [
      "2023-10-22 12:36:39.435916: W tensorflow/core/lib/png/png_io.cc:88] PNG warning: iCCP: known incorrect sRGB profile\n",
      "2023-10-22 12:36:39.825932: W tensorflow/core/lib/png/png_io.cc:88] PNG warning: iCCP: known incorrect sRGB profile\n",
      "2023-10-22 12:36:39.825965: W tensorflow/core/lib/png/png_io.cc:88] PNG warning: iCCP: cHRM chunk does not match sRGB\n"
     ]
    },
    {
     "name": "stdout",
     "output_type": "stream",
     "text": [
      " 3/18 [====>.........................] - ETA: 6s - loss: 2.0727 - accuracy: 0.2708"
     ]
    },
    {
     "name": "stderr",
     "output_type": "stream",
     "text": [
      "2023-10-22 12:36:41.209604: W tensorflow/core/lib/png/png_io.cc:88] PNG warning: iCCP: profile 'ICC Profile': 0h: PCS illuminant is not D50\n",
      "2023-10-22 12:36:41.230501: W tensorflow/core/lib/png/png_io.cc:88] PNG warning: iCCP: known incorrect sRGB profile\n"
     ]
    },
    {
     "name": "stdout",
     "output_type": "stream",
     "text": [
      " 7/18 [==========>...................] - ETA: 4s - loss: 1.7206 - accuracy: 0.2634"
     ]
    },
    {
     "name": "stderr",
     "output_type": "stream",
     "text": [
      "2023-10-22 12:36:42.788573: W tensorflow/core/lib/png/png_io.cc:88] PNG warning: iCCP: profile 'ICC Profile': 0h: PCS illuminant is not D50\n"
     ]
    },
    {
     "name": "stdout",
     "output_type": "stream",
     "text": [
      "18/18 [==============================] - ETA: 0s - loss: 1.4613 - accuracy: 0.3837"
     ]
    },
    {
     "name": "stderr",
     "output_type": "stream",
     "text": [
      "2023-10-22 12:36:47.219261: W tensorflow/core/lib/png/png_io.cc:88] PNG warning: iCCP: known incorrect sRGB profile\n",
      "2023-10-22 12:36:47.591052: W tensorflow/core/lib/png/png_io.cc:88] PNG warning: iCCP: known incorrect sRGB profile\n",
      "2023-10-22 12:36:47.591089: W tensorflow/core/lib/png/png_io.cc:88] PNG warning: iCCP: cHRM chunk does not match sRGB\n",
      "2023-10-22 12:36:48.444983: W tensorflow/core/lib/png/png_io.cc:88] PNG warning: iCCP: profile 'ICC Profile': 0h: PCS illuminant is not D50\n",
      "2023-10-22 12:36:48.462283: W tensorflow/core/lib/png/png_io.cc:88] PNG warning: iCCP: known incorrect sRGB profile\n",
      "2023-10-22 12:36:49.478044: W tensorflow/core/lib/png/png_io.cc:88] PNG warning: iCCP: profile 'ICC Profile': 0h: PCS illuminant is not D50\n"
     ]
    },
    {
     "name": "stdout",
     "output_type": "stream",
     "text": [
      "18/18 [==============================] - 12s 590ms/step - loss: 1.4613 - accuracy: 0.3837 - val_loss: 1.3097 - val_accuracy: 0.4187\n",
      "Epoch 2/20\n"
     ]
    },
    {
     "name": "stderr",
     "output_type": "stream",
     "text": [
      "2023-10-22 12:36:50.943528: W tensorflow/core/lib/png/png_io.cc:88] PNG warning: iCCP: known incorrect sRGB profile\n",
      "2023-10-22 12:36:51.313032: W tensorflow/core/lib/png/png_io.cc:88] PNG warning: iCCP: known incorrect sRGB profile\n",
      "2023-10-22 12:36:51.313067: W tensorflow/core/lib/png/png_io.cc:88] PNG warning: iCCP: cHRM chunk does not match sRGB\n"
     ]
    },
    {
     "name": "stdout",
     "output_type": "stream",
     "text": [
      " 3/18 [====>.........................] - ETA: 5s - loss: 1.2523 - accuracy: 0.4479"
     ]
    },
    {
     "name": "stderr",
     "output_type": "stream",
     "text": [
      "2023-10-22 12:36:52.586303: W tensorflow/core/lib/png/png_io.cc:88] PNG warning: iCCP: profile 'ICC Profile': 0h: PCS illuminant is not D50\n",
      "2023-10-22 12:36:52.607090: W tensorflow/core/lib/png/png_io.cc:88] PNG warning: iCCP: known incorrect sRGB profile\n"
     ]
    },
    {
     "name": "stdout",
     "output_type": "stream",
     "text": [
      " 7/18 [==========>...................] - ETA: 3s - loss: 1.2897 - accuracy: 0.4152"
     ]
    },
    {
     "name": "stderr",
     "output_type": "stream",
     "text": [
      "2023-10-22 12:36:54.125701: W tensorflow/core/lib/png/png_io.cc:88] PNG warning: iCCP: profile 'ICC Profile': 0h: PCS illuminant is not D50\n"
     ]
    },
    {
     "name": "stdout",
     "output_type": "stream",
     "text": [
      "18/18 [==============================] - ETA: 0s - loss: 1.2964 - accuracy: 0.3958"
     ]
    },
    {
     "name": "stderr",
     "output_type": "stream",
     "text": [
      "2023-10-22 12:36:58.105567: W tensorflow/core/lib/png/png_io.cc:88] PNG warning: iCCP: known incorrect sRGB profile\n",
      "2023-10-22 12:36:58.477847: W tensorflow/core/lib/png/png_io.cc:88] PNG warning: iCCP: known incorrect sRGB profile\n",
      "2023-10-22 12:36:58.477888: W tensorflow/core/lib/png/png_io.cc:88] PNG warning: iCCP: cHRM chunk does not match sRGB\n",
      "2023-10-22 12:36:59.344198: W tensorflow/core/lib/png/png_io.cc:88] PNG warning: iCCP: profile 'ICC Profile': 0h: PCS illuminant is not D50\n",
      "2023-10-22 12:36:59.362167: W tensorflow/core/lib/png/png_io.cc:88] PNG warning: iCCP: known incorrect sRGB profile\n",
      "2023-10-22 12:37:00.367166: W tensorflow/core/lib/png/png_io.cc:88] PNG warning: iCCP: profile 'ICC Profile': 0h: PCS illuminant is not D50\n"
     ]
    },
    {
     "name": "stdout",
     "output_type": "stream",
     "text": [
      "18/18 [==============================] - 11s 560ms/step - loss: 1.2964 - accuracy: 0.3958 - val_loss: 1.2045 - val_accuracy: 0.5125\n",
      "Epoch 3/20\n"
     ]
    },
    {
     "name": "stderr",
     "output_type": "stream",
     "text": [
      "2023-10-22 12:37:01.815736: W tensorflow/core/lib/png/png_io.cc:88] PNG warning: iCCP: known incorrect sRGB profile\n",
      "2023-10-22 12:37:02.185705: W tensorflow/core/lib/png/png_io.cc:88] PNG warning: iCCP: known incorrect sRGB profile\n",
      "2023-10-22 12:37:02.185751: W tensorflow/core/lib/png/png_io.cc:88] PNG warning: iCCP: cHRM chunk does not match sRGB\n"
     ]
    },
    {
     "name": "stdout",
     "output_type": "stream",
     "text": [
      " 3/18 [====>.........................] - ETA: 5s - loss: 1.2130 - accuracy: 0.5312"
     ]
    },
    {
     "name": "stderr",
     "output_type": "stream",
     "text": [
      "2023-10-22 12:37:03.455172: W tensorflow/core/lib/png/png_io.cc:88] PNG warning: iCCP: profile 'ICC Profile': 0h: PCS illuminant is not D50\n",
      "2023-10-22 12:37:03.475943: W tensorflow/core/lib/png/png_io.cc:88] PNG warning: iCCP: known incorrect sRGB profile\n"
     ]
    },
    {
     "name": "stdout",
     "output_type": "stream",
     "text": [
      " 7/18 [==========>...................] - ETA: 4s - loss: 1.2019 - accuracy: 0.5714"
     ]
    },
    {
     "name": "stderr",
     "output_type": "stream",
     "text": [
      "2023-10-22 12:37:05.213069: W tensorflow/core/lib/png/png_io.cc:88] PNG warning: iCCP: profile 'ICC Profile': 0h: PCS illuminant is not D50\n"
     ]
    },
    {
     "name": "stdout",
     "output_type": "stream",
     "text": [
      "18/18 [==============================] - ETA: 0s - loss: 1.1557 - accuracy: 0.5260"
     ]
    },
    {
     "name": "stderr",
     "output_type": "stream",
     "text": [
      "2023-10-22 12:37:09.338605: W tensorflow/core/lib/png/png_io.cc:88] PNG warning: iCCP: known incorrect sRGB profile\n",
      "2023-10-22 12:37:09.695660: W tensorflow/core/lib/png/png_io.cc:88] PNG warning: iCCP: known incorrect sRGB profile\n",
      "2023-10-22 12:37:09.695699: W tensorflow/core/lib/png/png_io.cc:88] PNG warning: iCCP: cHRM chunk does not match sRGB\n",
      "2023-10-22 12:37:10.551644: W tensorflow/core/lib/png/png_io.cc:88] PNG warning: iCCP: profile 'ICC Profile': 0h: PCS illuminant is not D50\n",
      "2023-10-22 12:37:10.567461: W tensorflow/core/lib/png/png_io.cc:88] PNG warning: iCCP: known incorrect sRGB profile\n",
      "2023-10-22 12:37:11.586567: W tensorflow/core/lib/png/png_io.cc:88] PNG warning: iCCP: profile 'ICC Profile': 0h: PCS illuminant is not D50\n"
     ]
    },
    {
     "name": "stdout",
     "output_type": "stream",
     "text": [
      "18/18 [==============================] - 11s 590ms/step - loss: 1.1557 - accuracy: 0.5260 - val_loss: 1.1183 - val_accuracy: 0.5312\n",
      "Epoch 4/20\n"
     ]
    },
    {
     "name": "stderr",
     "output_type": "stream",
     "text": [
      "2023-10-22 12:37:13.217365: W tensorflow/core/lib/png/png_io.cc:88] PNG warning: iCCP: known incorrect sRGB profile\n",
      "2023-10-22 12:37:13.596445: W tensorflow/core/lib/png/png_io.cc:88] PNG warning: iCCP: known incorrect sRGB profile\n",
      "2023-10-22 12:37:13.596481: W tensorflow/core/lib/png/png_io.cc:88] PNG warning: iCCP: cHRM chunk does not match sRGB\n"
     ]
    },
    {
     "name": "stdout",
     "output_type": "stream",
     "text": [
      " 3/18 [====>.........................] - ETA: 5s - loss: 1.0311 - accuracy: 0.5417"
     ]
    },
    {
     "name": "stderr",
     "output_type": "stream",
     "text": [
      "2023-10-22 12:37:14.848537: W tensorflow/core/lib/png/png_io.cc:88] PNG warning: iCCP: profile 'ICC Profile': 0h: PCS illuminant is not D50\n",
      "2023-10-22 12:37:14.867449: W tensorflow/core/lib/png/png_io.cc:88] PNG warning: iCCP: known incorrect sRGB profile\n"
     ]
    },
    {
     "name": "stdout",
     "output_type": "stream",
     "text": [
      " 7/18 [==========>...................] - ETA: 4s - loss: 1.0293 - accuracy: 0.5446"
     ]
    },
    {
     "name": "stderr",
     "output_type": "stream",
     "text": [
      "2023-10-22 12:37:17.057585: W tensorflow/core/lib/png/png_io.cc:88] PNG warning: iCCP: profile 'ICC Profile': 0h: PCS illuminant is not D50\n"
     ]
    },
    {
     "name": "stdout",
     "output_type": "stream",
     "text": [
      "18/18 [==============================] - ETA: 0s - loss: 0.9649 - accuracy: 0.6215"
     ]
    },
    {
     "name": "stderr",
     "output_type": "stream",
     "text": [
      "2023-10-22 12:37:21.028347: W tensorflow/core/lib/png/png_io.cc:88] PNG warning: iCCP: known incorrect sRGB profile\n",
      "2023-10-22 12:37:21.394265: W tensorflow/core/lib/png/png_io.cc:88] PNG warning: iCCP: known incorrect sRGB profile\n",
      "2023-10-22 12:37:21.395111: W tensorflow/core/lib/png/png_io.cc:88] PNG warning: iCCP: cHRM chunk does not match sRGB\n",
      "2023-10-22 12:37:22.256899: W tensorflow/core/lib/png/png_io.cc:88] PNG warning: iCCP: profile 'ICC Profile': 0h: PCS illuminant is not D50\n",
      "2023-10-22 12:37:22.274120: W tensorflow/core/lib/png/png_io.cc:88] PNG warning: iCCP: known incorrect sRGB profile\n",
      "2023-10-22 12:37:23.271726: W tensorflow/core/lib/png/png_io.cc:88] PNG warning: iCCP: profile 'ICC Profile': 0h: PCS illuminant is not D50\n"
     ]
    },
    {
     "name": "stdout",
     "output_type": "stream",
     "text": [
      "18/18 [==============================] - 12s 597ms/step - loss: 0.9649 - accuracy: 0.6215 - val_loss: 0.9257 - val_accuracy: 0.7000\n",
      "Epoch 5/20\n"
     ]
    },
    {
     "name": "stderr",
     "output_type": "stream",
     "text": [
      "2023-10-22 12:37:24.710678: W tensorflow/core/lib/png/png_io.cc:88] PNG warning: iCCP: known incorrect sRGB profile\n",
      "2023-10-22 12:37:25.075964: W tensorflow/core/lib/png/png_io.cc:88] PNG warning: iCCP: known incorrect sRGB profile\n",
      "2023-10-22 12:37:25.076000: W tensorflow/core/lib/png/png_io.cc:88] PNG warning: iCCP: cHRM chunk does not match sRGB\n"
     ]
    },
    {
     "name": "stdout",
     "output_type": "stream",
     "text": [
      " 3/18 [====>.........................] - ETA: 5s - loss: 0.7256 - accuracy: 0.7812"
     ]
    },
    {
     "name": "stderr",
     "output_type": "stream",
     "text": [
      "2023-10-22 12:37:26.282585: W tensorflow/core/lib/png/png_io.cc:88] PNG warning: iCCP: profile 'ICC Profile': 0h: PCS illuminant is not D50\n",
      "2023-10-22 12:37:26.302479: W tensorflow/core/lib/png/png_io.cc:88] PNG warning: iCCP: known incorrect sRGB profile\n"
     ]
    },
    {
     "name": "stdout",
     "output_type": "stream",
     "text": [
      " 7/18 [==========>...................] - ETA: 3s - loss: 0.6922 - accuracy: 0.7411"
     ]
    },
    {
     "name": "stderr",
     "output_type": "stream",
     "text": [
      "2023-10-22 12:37:27.905613: W tensorflow/core/lib/png/png_io.cc:88] PNG warning: iCCP: profile 'ICC Profile': 0h: PCS illuminant is not D50\n"
     ]
    },
    {
     "name": "stdout",
     "output_type": "stream",
     "text": [
      "18/18 [==============================] - ETA: 0s - loss: 0.6691 - accuracy: 0.7569"
     ]
    },
    {
     "name": "stderr",
     "output_type": "stream",
     "text": [
      "2023-10-22 12:37:32.007718: W tensorflow/core/lib/png/png_io.cc:88] PNG warning: iCCP: known incorrect sRGB profile\n",
      "2023-10-22 12:37:32.372681: W tensorflow/core/lib/png/png_io.cc:88] PNG warning: iCCP: known incorrect sRGB profile\n",
      "2023-10-22 12:37:32.372817: W tensorflow/core/lib/png/png_io.cc:88] PNG warning: iCCP: cHRM chunk does not match sRGB\n",
      "2023-10-22 12:37:33.192634: W tensorflow/core/lib/png/png_io.cc:88] PNG warning: iCCP: profile 'ICC Profile': 0h: PCS illuminant is not D50\n",
      "2023-10-22 12:37:33.207467: W tensorflow/core/lib/png/png_io.cc:88] PNG warning: iCCP: known incorrect sRGB profile\n",
      "2023-10-22 12:37:34.181082: W tensorflow/core/lib/png/png_io.cc:88] PNG warning: iCCP: profile 'ICC Profile': 0h: PCS illuminant is not D50\n"
     ]
    },
    {
     "name": "stdout",
     "output_type": "stream",
     "text": [
      "18/18 [==============================] - 11s 564ms/step - loss: 0.6691 - accuracy: 0.7569 - val_loss: 0.8662 - val_accuracy: 0.7063\n",
      "Epoch 6/20\n"
     ]
    },
    {
     "name": "stderr",
     "output_type": "stream",
     "text": [
      "2023-10-22 12:37:35.649033: W tensorflow/core/lib/png/png_io.cc:88] PNG warning: iCCP: known incorrect sRGB profile\n",
      "2023-10-22 12:37:36.028956: W tensorflow/core/lib/png/png_io.cc:88] PNG warning: iCCP: known incorrect sRGB profile\n",
      "2023-10-22 12:37:36.029030: W tensorflow/core/lib/png/png_io.cc:88] PNG warning: iCCP: cHRM chunk does not match sRGB\n"
     ]
    },
    {
     "name": "stdout",
     "output_type": "stream",
     "text": [
      " 3/18 [====>.........................] - ETA: 5s - loss: 0.3859 - accuracy: 0.8646"
     ]
    },
    {
     "name": "stderr",
     "output_type": "stream",
     "text": [
      "2023-10-22 12:37:37.328117: W tensorflow/core/lib/png/png_io.cc:88] PNG warning: iCCP: profile 'ICC Profile': 0h: PCS illuminant is not D50\n",
      "2023-10-22 12:37:37.349669: W tensorflow/core/lib/png/png_io.cc:88] PNG warning: iCCP: known incorrect sRGB profile\n"
     ]
    },
    {
     "name": "stdout",
     "output_type": "stream",
     "text": [
      " 7/18 [==========>...................] - ETA: 4s - loss: 0.4554 - accuracy: 0.8259"
     ]
    },
    {
     "name": "stderr",
     "output_type": "stream",
     "text": [
      "2023-10-22 12:37:38.858211: W tensorflow/core/lib/png/png_io.cc:88] PNG warning: iCCP: profile 'ICC Profile': 0h: PCS illuminant is not D50\n"
     ]
    },
    {
     "name": "stdout",
     "output_type": "stream",
     "text": [
      "18/18 [==============================] - ETA: 0s - loss: 0.5069 - accuracy: 0.8333"
     ]
    },
    {
     "name": "stderr",
     "output_type": "stream",
     "text": [
      "2023-10-22 12:37:42.993194: W tensorflow/core/lib/png/png_io.cc:88] PNG warning: iCCP: known incorrect sRGB profile\n",
      "2023-10-22 12:37:43.355472: W tensorflow/core/lib/png/png_io.cc:88] PNG warning: iCCP: known incorrect sRGB profile\n",
      "2023-10-22 12:37:43.355515: W tensorflow/core/lib/png/png_io.cc:88] PNG warning: iCCP: cHRM chunk does not match sRGB\n",
      "2023-10-22 12:37:44.183434: W tensorflow/core/lib/png/png_io.cc:88] PNG warning: iCCP: profile 'ICC Profile': 0h: PCS illuminant is not D50\n",
      "2023-10-22 12:37:44.199373: W tensorflow/core/lib/png/png_io.cc:88] PNG warning: iCCP: known incorrect sRGB profile\n",
      "2023-10-22 12:37:45.170551: W tensorflow/core/lib/png/png_io.cc:88] PNG warning: iCCP: profile 'ICC Profile': 0h: PCS illuminant is not D50\n"
     ]
    },
    {
     "name": "stdout",
     "output_type": "stream",
     "text": [
      "18/18 [==============================] - 11s 567ms/step - loss: 0.5069 - accuracy: 0.8333 - val_loss: 0.6357 - val_accuracy: 0.7750\n",
      "Epoch 7/20\n"
     ]
    },
    {
     "name": "stderr",
     "output_type": "stream",
     "text": [
      "2023-10-22 12:37:46.652595: W tensorflow/core/lib/png/png_io.cc:88] PNG warning: iCCP: known incorrect sRGB profile\n",
      "2023-10-22 12:37:47.022507: W tensorflow/core/lib/png/png_io.cc:88] PNG warning: iCCP: known incorrect sRGB profile\n",
      "2023-10-22 12:37:47.022640: W tensorflow/core/lib/png/png_io.cc:88] PNG warning: iCCP: cHRM chunk does not match sRGB\n"
     ]
    },
    {
     "name": "stdout",
     "output_type": "stream",
     "text": [
      " 3/18 [====>.........................] - ETA: 5s - loss: 0.4092 - accuracy: 0.8438"
     ]
    },
    {
     "name": "stderr",
     "output_type": "stream",
     "text": [
      "2023-10-22 12:37:48.226880: W tensorflow/core/lib/png/png_io.cc:88] PNG warning: iCCP: profile 'ICC Profile': 0h: PCS illuminant is not D50\n",
      "2023-10-22 12:37:48.250133: W tensorflow/core/lib/png/png_io.cc:88] PNG warning: iCCP: known incorrect sRGB profile\n"
     ]
    },
    {
     "name": "stdout",
     "output_type": "stream",
     "text": [
      " 7/18 [==========>...................] - ETA: 3s - loss: 0.3622 - accuracy: 0.8750"
     ]
    },
    {
     "name": "stderr",
     "output_type": "stream",
     "text": [
      "2023-10-22 12:37:49.759557: W tensorflow/core/lib/png/png_io.cc:88] PNG warning: iCCP: profile 'ICC Profile': 0h: PCS illuminant is not D50\n"
     ]
    },
    {
     "name": "stdout",
     "output_type": "stream",
     "text": [
      "18/18 [==============================] - ETA: 0s - loss: 0.3699 - accuracy: 0.8611"
     ]
    },
    {
     "name": "stderr",
     "output_type": "stream",
     "text": [
      "2023-10-22 12:37:53.926626: W tensorflow/core/lib/png/png_io.cc:88] PNG warning: iCCP: known incorrect sRGB profile\n",
      "2023-10-22 12:37:54.282231: W tensorflow/core/lib/png/png_io.cc:88] PNG warning: iCCP: known incorrect sRGB profile\n",
      "2023-10-22 12:37:54.282381: W tensorflow/core/lib/png/png_io.cc:88] PNG warning: iCCP: cHRM chunk does not match sRGB\n",
      "2023-10-22 12:37:55.108144: W tensorflow/core/lib/png/png_io.cc:88] PNG warning: iCCP: profile 'ICC Profile': 0h: PCS illuminant is not D50\n",
      "2023-10-22 12:37:55.125537: W tensorflow/core/lib/png/png_io.cc:88] PNG warning: iCCP: known incorrect sRGB profile\n",
      "2023-10-22 12:37:56.102310: W tensorflow/core/lib/png/png_io.cc:88] PNG warning: iCCP: profile 'ICC Profile': 0h: PCS illuminant is not D50\n"
     ]
    },
    {
     "name": "stdout",
     "output_type": "stream",
     "text": [
      "18/18 [==============================] - 11s 559ms/step - loss: 0.3699 - accuracy: 0.8611 - val_loss: 0.6679 - val_accuracy: 0.8313\n",
      "Epoch 8/20\n"
     ]
    },
    {
     "name": "stderr",
     "output_type": "stream",
     "text": [
      "2023-10-22 12:37:57.525631: W tensorflow/core/lib/png/png_io.cc:88] PNG warning: iCCP: known incorrect sRGB profile\n",
      "2023-10-22 12:37:57.884476: W tensorflow/core/lib/png/png_io.cc:88] PNG warning: iCCP: known incorrect sRGB profile\n",
      "2023-10-22 12:37:57.884514: W tensorflow/core/lib/png/png_io.cc:88] PNG warning: iCCP: cHRM chunk does not match sRGB\n"
     ]
    },
    {
     "name": "stdout",
     "output_type": "stream",
     "text": [
      " 3/18 [====>.........................] - ETA: 5s - loss: 0.2226 - accuracy: 0.9583"
     ]
    },
    {
     "name": "stderr",
     "output_type": "stream",
     "text": [
      "2023-10-22 12:37:59.172152: W tensorflow/core/lib/png/png_io.cc:88] PNG warning: iCCP: profile 'ICC Profile': 0h: PCS illuminant is not D50\n",
      "2023-10-22 12:37:59.195969: W tensorflow/core/lib/png/png_io.cc:88] PNG warning: iCCP: known incorrect sRGB profile\n"
     ]
    },
    {
     "name": "stdout",
     "output_type": "stream",
     "text": [
      " 7/18 [==========>...................] - ETA: 4s - loss: 0.2382 - accuracy: 0.9509"
     ]
    },
    {
     "name": "stderr",
     "output_type": "stream",
     "text": [
      "2023-10-22 12:38:00.820521: W tensorflow/core/lib/png/png_io.cc:88] PNG warning: iCCP: profile 'ICC Profile': 0h: PCS illuminant is not D50\n"
     ]
    },
    {
     "name": "stdout",
     "output_type": "stream",
     "text": [
      "18/18 [==============================] - ETA: 0s - loss: 0.2707 - accuracy: 0.9323"
     ]
    },
    {
     "name": "stderr",
     "output_type": "stream",
     "text": [
      "2023-10-22 12:38:04.945864: W tensorflow/core/lib/png/png_io.cc:88] PNG warning: iCCP: known incorrect sRGB profile\n",
      "2023-10-22 12:38:05.292659: W tensorflow/core/lib/png/png_io.cc:88] PNG warning: iCCP: known incorrect sRGB profile\n",
      "2023-10-22 12:38:05.292696: W tensorflow/core/lib/png/png_io.cc:88] PNG warning: iCCP: cHRM chunk does not match sRGB\n",
      "2023-10-22 12:38:06.104457: W tensorflow/core/lib/png/png_io.cc:88] PNG warning: iCCP: profile 'ICC Profile': 0h: PCS illuminant is not D50\n",
      "2023-10-22 12:38:06.122108: W tensorflow/core/lib/png/png_io.cc:88] PNG warning: iCCP: known incorrect sRGB profile\n",
      "2023-10-22 12:38:07.044131: W tensorflow/core/lib/png/png_io.cc:88] PNG warning: iCCP: profile 'ICC Profile': 0h: PCS illuminant is not D50\n"
     ]
    },
    {
     "name": "stdout",
     "output_type": "stream",
     "text": [
      "18/18 [==============================] - 11s 563ms/step - loss: 0.2707 - accuracy: 0.9323 - val_loss: 0.4295 - val_accuracy: 0.8875\n",
      "Epoch 9/20\n"
     ]
    },
    {
     "name": "stderr",
     "output_type": "stream",
     "text": [
      "2023-10-22 12:38:08.433888: W tensorflow/core/lib/png/png_io.cc:88] PNG warning: iCCP: known incorrect sRGB profile\n",
      "2023-10-22 12:38:08.774924: W tensorflow/core/lib/png/png_io.cc:88] PNG warning: iCCP: known incorrect sRGB profile\n",
      "2023-10-22 12:38:08.774962: W tensorflow/core/lib/png/png_io.cc:88] PNG warning: iCCP: cHRM chunk does not match sRGB\n"
     ]
    },
    {
     "name": "stdout",
     "output_type": "stream",
     "text": [
      " 3/18 [====>.........................] - ETA: 5s - loss: 0.2524 - accuracy: 0.9479"
     ]
    },
    {
     "name": "stderr",
     "output_type": "stream",
     "text": [
      "2023-10-22 12:38:09.942321: W tensorflow/core/lib/png/png_io.cc:88] PNG warning: iCCP: profile 'ICC Profile': 0h: PCS illuminant is not D50\n",
      "2023-10-22 12:38:09.961712: W tensorflow/core/lib/png/png_io.cc:88] PNG warning: iCCP: known incorrect sRGB profile\n"
     ]
    },
    {
     "name": "stdout",
     "output_type": "stream",
     "text": [
      " 7/18 [==========>...................] - ETA: 3s - loss: 0.2770 - accuracy: 0.9420"
     ]
    },
    {
     "name": "stderr",
     "output_type": "stream",
     "text": [
      "2023-10-22 12:38:11.339471: W tensorflow/core/lib/png/png_io.cc:88] PNG warning: iCCP: profile 'ICC Profile': 0h: PCS illuminant is not D50\n"
     ]
    },
    {
     "name": "stdout",
     "output_type": "stream",
     "text": [
      "18/18 [==============================] - ETA: 0s - loss: 0.2237 - accuracy: 0.9497"
     ]
    },
    {
     "name": "stderr",
     "output_type": "stream",
     "text": [
      "2023-10-22 12:38:15.512477: W tensorflow/core/lib/png/png_io.cc:88] PNG warning: iCCP: known incorrect sRGB profile\n",
      "2023-10-22 12:38:15.861751: W tensorflow/core/lib/png/png_io.cc:88] PNG warning: iCCP: known incorrect sRGB profile\n",
      "2023-10-22 12:38:15.861895: W tensorflow/core/lib/png/png_io.cc:88] PNG warning: iCCP: cHRM chunk does not match sRGB\n",
      "2023-10-22 12:38:16.660504: W tensorflow/core/lib/png/png_io.cc:88] PNG warning: iCCP: profile 'ICC Profile': 0h: PCS illuminant is not D50\n",
      "2023-10-22 12:38:16.676973: W tensorflow/core/lib/png/png_io.cc:88] PNG warning: iCCP: known incorrect sRGB profile\n",
      "2023-10-22 12:38:17.586097: W tensorflow/core/lib/png/png_io.cc:88] PNG warning: iCCP: profile 'ICC Profile': 0h: PCS illuminant is not D50\n"
     ]
    },
    {
     "name": "stdout",
     "output_type": "stream",
     "text": [
      "18/18 [==============================] - 11s 544ms/step - loss: 0.2237 - accuracy: 0.9497 - val_loss: 0.4206 - val_accuracy: 0.8938\n",
      "Epoch 10/20\n"
     ]
    },
    {
     "name": "stderr",
     "output_type": "stream",
     "text": [
      "2023-10-22 12:38:18.963452: W tensorflow/core/lib/png/png_io.cc:88] PNG warning: iCCP: known incorrect sRGB profile\n",
      "2023-10-22 12:38:19.307081: W tensorflow/core/lib/png/png_io.cc:88] PNG warning: iCCP: known incorrect sRGB profile\n",
      "2023-10-22 12:38:19.307117: W tensorflow/core/lib/png/png_io.cc:88] PNG warning: iCCP: cHRM chunk does not match sRGB\n"
     ]
    },
    {
     "name": "stdout",
     "output_type": "stream",
     "text": [
      " 3/18 [====>.........................] - ETA: 5s - loss: 0.2173 - accuracy: 0.9375"
     ]
    },
    {
     "name": "stderr",
     "output_type": "stream",
     "text": [
      "2023-10-22 12:38:20.450600: W tensorflow/core/lib/png/png_io.cc:88] PNG warning: iCCP: profile 'ICC Profile': 0h: PCS illuminant is not D50\n",
      "2023-10-22 12:38:20.472499: W tensorflow/core/lib/png/png_io.cc:88] PNG warning: iCCP: known incorrect sRGB profile\n"
     ]
    },
    {
     "name": "stdout",
     "output_type": "stream",
     "text": [
      " 7/18 [==========>...................] - ETA: 3s - loss: 0.1526 - accuracy: 0.9554"
     ]
    },
    {
     "name": "stderr",
     "output_type": "stream",
     "text": [
      "2023-10-22 12:38:21.872251: W tensorflow/core/lib/png/png_io.cc:88] PNG warning: iCCP: profile 'ICC Profile': 0h: PCS illuminant is not D50\n"
     ]
    },
    {
     "name": "stdout",
     "output_type": "stream",
     "text": [
      "18/18 [==============================] - ETA: 0s - loss: 0.1671 - accuracy: 0.9653"
     ]
    },
    {
     "name": "stderr",
     "output_type": "stream",
     "text": [
      "2023-10-22 12:38:26.058520: W tensorflow/core/lib/png/png_io.cc:88] PNG warning: iCCP: known incorrect sRGB profile\n",
      "2023-10-22 12:38:26.430905: W tensorflow/core/lib/png/png_io.cc:88] PNG warning: iCCP: known incorrect sRGB profile\n",
      "2023-10-22 12:38:26.430931: W tensorflow/core/lib/png/png_io.cc:88] PNG warning: iCCP: cHRM chunk does not match sRGB\n",
      "2023-10-22 12:38:27.343273: W tensorflow/core/lib/png/png_io.cc:88] PNG warning: iCCP: profile 'ICC Profile': 0h: PCS illuminant is not D50\n",
      "2023-10-22 12:38:27.365601: W tensorflow/core/lib/png/png_io.cc:88] PNG warning: iCCP: known incorrect sRGB profile\n",
      "2023-10-22 12:38:28.431456: W tensorflow/core/lib/png/png_io.cc:88] PNG warning: iCCP: profile 'ICC Profile': 0h: PCS illuminant is not D50\n"
     ]
    },
    {
     "name": "stdout",
     "output_type": "stream",
     "text": [
      "18/18 [==============================] - 11s 566ms/step - loss: 0.1671 - accuracy: 0.9653 - val_loss: 0.3382 - val_accuracy: 0.9000\n",
      "Epoch 11/20\n"
     ]
    },
    {
     "name": "stderr",
     "output_type": "stream",
     "text": [
      "2023-10-22 12:38:29.905483: W tensorflow/core/lib/png/png_io.cc:88] PNG warning: iCCP: known incorrect sRGB profile\n",
      "2023-10-22 12:38:30.292316: W tensorflow/core/lib/png/png_io.cc:88] PNG warning: iCCP: known incorrect sRGB profile\n",
      "2023-10-22 12:38:30.292345: W tensorflow/core/lib/png/png_io.cc:88] PNG warning: iCCP: cHRM chunk does not match sRGB\n"
     ]
    },
    {
     "name": "stdout",
     "output_type": "stream",
     "text": [
      " 3/18 [====>.........................] - ETA: 5s - loss: 0.0953 - accuracy: 0.9792"
     ]
    },
    {
     "name": "stderr",
     "output_type": "stream",
     "text": [
      "2023-10-22 12:38:31.536672: W tensorflow/core/lib/png/png_io.cc:88] PNG warning: iCCP: profile 'ICC Profile': 0h: PCS illuminant is not D50\n",
      "2023-10-22 12:38:31.559118: W tensorflow/core/lib/png/png_io.cc:88] PNG warning: iCCP: known incorrect sRGB profile\n"
     ]
    },
    {
     "name": "stdout",
     "output_type": "stream",
     "text": [
      " 7/18 [==========>...................] - ETA: 4s - loss: 0.1210 - accuracy: 0.9643"
     ]
    },
    {
     "name": "stderr",
     "output_type": "stream",
     "text": [
      "2023-10-22 12:38:33.128719: W tensorflow/core/lib/png/png_io.cc:88] PNG warning: iCCP: profile 'ICC Profile': 0h: PCS illuminant is not D50\n"
     ]
    },
    {
     "name": "stdout",
     "output_type": "stream",
     "text": [
      "18/18 [==============================] - ETA: 0s - loss: 0.1551 - accuracy: 0.9618"
     ]
    },
    {
     "name": "stderr",
     "output_type": "stream",
     "text": [
      "2023-10-22 12:38:37.299076: W tensorflow/core/lib/png/png_io.cc:88] PNG warning: iCCP: known incorrect sRGB profile\n",
      "2023-10-22 12:38:37.652246: W tensorflow/core/lib/png/png_io.cc:88] PNG warning: iCCP: known incorrect sRGB profile\n",
      "2023-10-22 12:38:37.652387: W tensorflow/core/lib/png/png_io.cc:88] PNG warning: iCCP: cHRM chunk does not match sRGB\n",
      "2023-10-22 12:38:38.502329: W tensorflow/core/lib/png/png_io.cc:88] PNG warning: iCCP: profile 'ICC Profile': 0h: PCS illuminant is not D50\n",
      "2023-10-22 12:38:38.520354: W tensorflow/core/lib/png/png_io.cc:88] PNG warning: iCCP: known incorrect sRGB profile\n",
      "2023-10-22 12:38:39.453194: W tensorflow/core/lib/png/png_io.cc:88] PNG warning: iCCP: profile 'ICC Profile': 0h: PCS illuminant is not D50\n"
     ]
    },
    {
     "name": "stdout",
     "output_type": "stream",
     "text": [
      "18/18 [==============================] - 11s 564ms/step - loss: 0.1551 - accuracy: 0.9618 - val_loss: 0.3336 - val_accuracy: 0.9125\n",
      "Epoch 12/20\n"
     ]
    },
    {
     "name": "stderr",
     "output_type": "stream",
     "text": [
      "2023-10-22 12:38:40.851565: W tensorflow/core/lib/png/png_io.cc:88] PNG warning: iCCP: known incorrect sRGB profile\n",
      "2023-10-22 12:38:41.204078: W tensorflow/core/lib/png/png_io.cc:88] PNG warning: iCCP: known incorrect sRGB profile\n",
      "2023-10-22 12:38:41.204120: W tensorflow/core/lib/png/png_io.cc:88] PNG warning: iCCP: cHRM chunk does not match sRGB\n"
     ]
    },
    {
     "name": "stdout",
     "output_type": "stream",
     "text": [
      " 3/18 [====>.........................] - ETA: 5s - loss: 0.0465 - accuracy: 0.9896"
     ]
    },
    {
     "name": "stderr",
     "output_type": "stream",
     "text": [
      "2023-10-22 12:38:42.353078: W tensorflow/core/lib/png/png_io.cc:88] PNG warning: iCCP: profile 'ICC Profile': 0h: PCS illuminant is not D50\n",
      "2023-10-22 12:38:42.379537: W tensorflow/core/lib/png/png_io.cc:88] PNG warning: iCCP: known incorrect sRGB profile\n"
     ]
    },
    {
     "name": "stdout",
     "output_type": "stream",
     "text": [
      " 7/18 [==========>...................] - ETA: 3s - loss: 0.1318 - accuracy: 0.9643"
     ]
    },
    {
     "name": "stderr",
     "output_type": "stream",
     "text": [
      "2023-10-22 12:38:43.807065: W tensorflow/core/lib/png/png_io.cc:88] PNG warning: iCCP: profile 'ICC Profile': 0h: PCS illuminant is not D50\n"
     ]
    },
    {
     "name": "stdout",
     "output_type": "stream",
     "text": [
      "18/18 [==============================] - ETA: 0s - loss: 0.1518 - accuracy: 0.9583"
     ]
    },
    {
     "name": "stderr",
     "output_type": "stream",
     "text": [
      "2023-10-22 12:38:48.193493: W tensorflow/core/lib/png/png_io.cc:88] PNG warning: iCCP: known incorrect sRGB profile\n",
      "2023-10-22 12:38:48.557552: W tensorflow/core/lib/png/png_io.cc:88] PNG warning: iCCP: known incorrect sRGB profile\n",
      "2023-10-22 12:38:48.557609: W tensorflow/core/lib/png/png_io.cc:88] PNG warning: iCCP: cHRM chunk does not match sRGB\n",
      "2023-10-22 12:38:49.380059: W tensorflow/core/lib/png/png_io.cc:88] PNG warning: iCCP: profile 'ICC Profile': 0h: PCS illuminant is not D50\n",
      "2023-10-22 12:38:49.397367: W tensorflow/core/lib/png/png_io.cc:88] PNG warning: iCCP: known incorrect sRGB profile\n",
      "2023-10-22 12:38:50.349719: W tensorflow/core/lib/png/png_io.cc:88] PNG warning: iCCP: profile 'ICC Profile': 0h: PCS illuminant is not D50\n"
     ]
    },
    {
     "name": "stdout",
     "output_type": "stream",
     "text": [
      "18/18 [==============================] - 11s 565ms/step - loss: 0.1518 - accuracy: 0.9583 - val_loss: 0.2624 - val_accuracy: 0.9375\n",
      "Epoch 13/20\n"
     ]
    },
    {
     "name": "stderr",
     "output_type": "stream",
     "text": [
      "2023-10-22 12:38:51.764757: W tensorflow/core/lib/png/png_io.cc:88] PNG warning: iCCP: known incorrect sRGB profile\n",
      "2023-10-22 12:38:52.127046: W tensorflow/core/lib/png/png_io.cc:88] PNG warning: iCCP: known incorrect sRGB profile\n",
      "2023-10-22 12:38:52.127082: W tensorflow/core/lib/png/png_io.cc:88] PNG warning: iCCP: cHRM chunk does not match sRGB\n"
     ]
    },
    {
     "name": "stdout",
     "output_type": "stream",
     "text": [
      " 3/18 [====>.........................] - ETA: 5s - loss: 0.2336 - accuracy: 0.9479"
     ]
    },
    {
     "name": "stderr",
     "output_type": "stream",
     "text": [
      "2023-10-22 12:38:53.376484: W tensorflow/core/lib/png/png_io.cc:88] PNG warning: iCCP: profile 'ICC Profile': 0h: PCS illuminant is not D50\n",
      "2023-10-22 12:38:53.395893: W tensorflow/core/lib/png/png_io.cc:88] PNG warning: iCCP: known incorrect sRGB profile\n"
     ]
    },
    {
     "name": "stdout",
     "output_type": "stream",
     "text": [
      " 7/18 [==========>...................] - ETA: 3s - loss: 0.1644 - accuracy: 0.9643"
     ]
    },
    {
     "name": "stderr",
     "output_type": "stream",
     "text": [
      "2023-10-22 12:38:54.859750: W tensorflow/core/lib/png/png_io.cc:88] PNG warning: iCCP: profile 'ICC Profile': 0h: PCS illuminant is not D50\n"
     ]
    },
    {
     "name": "stdout",
     "output_type": "stream",
     "text": [
      "18/18 [==============================] - ETA: 0s - loss: 0.1839 - accuracy: 0.9601"
     ]
    },
    {
     "name": "stderr",
     "output_type": "stream",
     "text": [
      "2023-10-22 12:38:58.793678: W tensorflow/core/lib/png/png_io.cc:88] PNG warning: iCCP: known incorrect sRGB profile\n",
      "2023-10-22 12:38:59.157360: W tensorflow/core/lib/png/png_io.cc:88] PNG warning: iCCP: known incorrect sRGB profile\n",
      "2023-10-22 12:38:59.157398: W tensorflow/core/lib/png/png_io.cc:88] PNG warning: iCCP: cHRM chunk does not match sRGB\n",
      "2023-10-22 12:38:59.996380: W tensorflow/core/lib/png/png_io.cc:88] PNG warning: iCCP: profile 'ICC Profile': 0h: PCS illuminant is not D50\n",
      "2023-10-22 12:39:00.013460: W tensorflow/core/lib/png/png_io.cc:88] PNG warning: iCCP: known incorrect sRGB profile\n",
      "2023-10-22 12:39:01.004613: W tensorflow/core/lib/png/png_io.cc:88] PNG warning: iCCP: profile 'ICC Profile': 0h: PCS illuminant is not D50\n"
     ]
    },
    {
     "name": "stdout",
     "output_type": "stream",
     "text": [
      "18/18 [==============================] - 11s 547ms/step - loss: 0.1839 - accuracy: 0.9601 - val_loss: 0.2135 - val_accuracy: 0.9375\n",
      "Epoch 14/20\n"
     ]
    },
    {
     "name": "stderr",
     "output_type": "stream",
     "text": [
      "2023-10-22 12:39:02.414079: W tensorflow/core/lib/png/png_io.cc:88] PNG warning: iCCP: known incorrect sRGB profile\n",
      "2023-10-22 12:39:02.778463: W tensorflow/core/lib/png/png_io.cc:88] PNG warning: iCCP: known incorrect sRGB profile\n",
      "2023-10-22 12:39:02.778500: W tensorflow/core/lib/png/png_io.cc:88] PNG warning: iCCP: cHRM chunk does not match sRGB\n"
     ]
    },
    {
     "name": "stdout",
     "output_type": "stream",
     "text": [
      " 3/18 [====>.........................] - ETA: 5s - loss: 0.0735 - accuracy: 0.9688"
     ]
    },
    {
     "name": "stderr",
     "output_type": "stream",
     "text": [
      "2023-10-22 12:39:03.951732: W tensorflow/core/lib/png/png_io.cc:88] PNG warning: iCCP: profile 'ICC Profile': 0h: PCS illuminant is not D50\n",
      "2023-10-22 12:39:03.971944: W tensorflow/core/lib/png/png_io.cc:88] PNG warning: iCCP: known incorrect sRGB profile\n"
     ]
    },
    {
     "name": "stdout",
     "output_type": "stream",
     "text": [
      " 7/18 [==========>...................] - ETA: 3s - loss: 0.0777 - accuracy: 0.9732"
     ]
    },
    {
     "name": "stderr",
     "output_type": "stream",
     "text": [
      "2023-10-22 12:39:05.331724: W tensorflow/core/lib/png/png_io.cc:88] PNG warning: iCCP: profile 'ICC Profile': 0h: PCS illuminant is not D50\n"
     ]
    },
    {
     "name": "stdout",
     "output_type": "stream",
     "text": [
      "18/18 [==============================] - ETA: 0s - loss: 0.1056 - accuracy: 0.9740"
     ]
    },
    {
     "name": "stderr",
     "output_type": "stream",
     "text": [
      "2023-10-22 12:39:09.556730: W tensorflow/core/lib/png/png_io.cc:88] PNG warning: iCCP: known incorrect sRGB profile\n",
      "2023-10-22 12:39:09.917760: W tensorflow/core/lib/png/png_io.cc:88] PNG warning: iCCP: known incorrect sRGB profile\n",
      "2023-10-22 12:39:09.917785: W tensorflow/core/lib/png/png_io.cc:88] PNG warning: iCCP: cHRM chunk does not match sRGB\n",
      "2023-10-22 12:39:10.733640: W tensorflow/core/lib/png/png_io.cc:88] PNG warning: iCCP: profile 'ICC Profile': 0h: PCS illuminant is not D50\n",
      "2023-10-22 12:39:10.750605: W tensorflow/core/lib/png/png_io.cc:88] PNG warning: iCCP: known incorrect sRGB profile\n",
      "2023-10-22 12:39:11.678024: W tensorflow/core/lib/png/png_io.cc:88] PNG warning: iCCP: profile 'ICC Profile': 0h: PCS illuminant is not D50\n"
     ]
    },
    {
     "name": "stdout",
     "output_type": "stream",
     "text": [
      "18/18 [==============================] - 11s 550ms/step - loss: 0.1056 - accuracy: 0.9740 - val_loss: 0.3369 - val_accuracy: 0.9062\n",
      "Epoch 15/20\n"
     ]
    },
    {
     "name": "stderr",
     "output_type": "stream",
     "text": [
      "2023-10-22 12:39:13.084754: W tensorflow/core/lib/png/png_io.cc:88] PNG warning: iCCP: known incorrect sRGB profile\n",
      "2023-10-22 12:39:13.444010: W tensorflow/core/lib/png/png_io.cc:88] PNG warning: iCCP: known incorrect sRGB profile\n",
      "2023-10-22 12:39:13.444048: W tensorflow/core/lib/png/png_io.cc:88] PNG warning: iCCP: cHRM chunk does not match sRGB\n"
     ]
    },
    {
     "name": "stdout",
     "output_type": "stream",
     "text": [
      " 3/18 [====>.........................] - ETA: 5s - loss: 0.0779 - accuracy: 0.9792"
     ]
    },
    {
     "name": "stderr",
     "output_type": "stream",
     "text": [
      "2023-10-22 12:39:14.615591: W tensorflow/core/lib/png/png_io.cc:88] PNG warning: iCCP: profile 'ICC Profile': 0h: PCS illuminant is not D50\n",
      "2023-10-22 12:39:14.634574: W tensorflow/core/lib/png/png_io.cc:88] PNG warning: iCCP: known incorrect sRGB profile\n"
     ]
    },
    {
     "name": "stdout",
     "output_type": "stream",
     "text": [
      " 7/18 [==========>...................] - ETA: 3s - loss: 0.1033 - accuracy: 0.9688"
     ]
    },
    {
     "name": "stderr",
     "output_type": "stream",
     "text": [
      "2023-10-22 12:39:16.081991: W tensorflow/core/lib/png/png_io.cc:88] PNG warning: iCCP: profile 'ICC Profile': 0h: PCS illuminant is not D50\n"
     ]
    },
    {
     "name": "stdout",
     "output_type": "stream",
     "text": [
      "18/18 [==============================] - ETA: 0s - loss: 0.1301 - accuracy: 0.9722"
     ]
    },
    {
     "name": "stderr",
     "output_type": "stream",
     "text": [
      "2023-10-22 12:39:20.056794: W tensorflow/core/lib/png/png_io.cc:88] PNG warning: iCCP: known incorrect sRGB profile\n",
      "2023-10-22 12:39:20.413434: W tensorflow/core/lib/png/png_io.cc:88] PNG warning: iCCP: known incorrect sRGB profile\n",
      "2023-10-22 12:39:20.413471: W tensorflow/core/lib/png/png_io.cc:88] PNG warning: iCCP: cHRM chunk does not match sRGB\n",
      "2023-10-22 12:39:21.242513: W tensorflow/core/lib/png/png_io.cc:88] PNG warning: iCCP: profile 'ICC Profile': 0h: PCS illuminant is not D50\n",
      "2023-10-22 12:39:21.259754: W tensorflow/core/lib/png/png_io.cc:88] PNG warning: iCCP: known incorrect sRGB profile\n",
      "2023-10-22 12:39:22.219887: W tensorflow/core/lib/png/png_io.cc:88] PNG warning: iCCP: profile 'ICC Profile': 0h: PCS illuminant is not D50\n"
     ]
    },
    {
     "name": "stdout",
     "output_type": "stream",
     "text": [
      "18/18 [==============================] - 11s 544ms/step - loss: 0.1301 - accuracy: 0.9722 - val_loss: 0.1935 - val_accuracy: 0.9500\n",
      "Epoch 16/20\n"
     ]
    },
    {
     "name": "stderr",
     "output_type": "stream",
     "text": [
      "2023-10-22 12:39:23.657151: W tensorflow/core/lib/png/png_io.cc:88] PNG warning: iCCP: known incorrect sRGB profile\n",
      "2023-10-22 12:39:24.009964: W tensorflow/core/lib/png/png_io.cc:88] PNG warning: iCCP: known incorrect sRGB profile\n",
      "2023-10-22 12:39:24.010002: W tensorflow/core/lib/png/png_io.cc:88] PNG warning: iCCP: cHRM chunk does not match sRGB\n"
     ]
    },
    {
     "name": "stdout",
     "output_type": "stream",
     "text": [
      " 3/18 [====>.........................] - ETA: 5s - loss: 0.0280 - accuracy: 1.0000"
     ]
    },
    {
     "name": "stderr",
     "output_type": "stream",
     "text": [
      "2023-10-22 12:39:25.203524: W tensorflow/core/lib/png/png_io.cc:88] PNG warning: iCCP: profile 'ICC Profile': 0h: PCS illuminant is not D50\n",
      "2023-10-22 12:39:25.222955: W tensorflow/core/lib/png/png_io.cc:88] PNG warning: iCCP: known incorrect sRGB profile\n"
     ]
    },
    {
     "name": "stdout",
     "output_type": "stream",
     "text": [
      " 7/18 [==========>...................] - ETA: 3s - loss: 0.0620 - accuracy: 0.9866"
     ]
    },
    {
     "name": "stderr",
     "output_type": "stream",
     "text": [
      "2023-10-22 12:39:26.647629: W tensorflow/core/lib/png/png_io.cc:88] PNG warning: iCCP: profile 'ICC Profile': 0h: PCS illuminant is not D50\n"
     ]
    },
    {
     "name": "stdout",
     "output_type": "stream",
     "text": [
      "18/18 [==============================] - ETA: 0s - loss: 0.1433 - accuracy: 0.9670"
     ]
    },
    {
     "name": "stderr",
     "output_type": "stream",
     "text": [
      "2023-10-22 12:39:30.744445: W tensorflow/core/lib/png/png_io.cc:88] PNG warning: iCCP: known incorrect sRGB profile\n",
      "2023-10-22 12:39:31.104165: W tensorflow/core/lib/png/png_io.cc:88] PNG warning: iCCP: known incorrect sRGB profile\n",
      "2023-10-22 12:39:31.104188: W tensorflow/core/lib/png/png_io.cc:88] PNG warning: iCCP: cHRM chunk does not match sRGB\n",
      "2023-10-22 12:39:31.927113: W tensorflow/core/lib/png/png_io.cc:88] PNG warning: iCCP: profile 'ICC Profile': 0h: PCS illuminant is not D50\n",
      "2023-10-22 12:39:31.944483: W tensorflow/core/lib/png/png_io.cc:88] PNG warning: iCCP: known incorrect sRGB profile\n",
      "2023-10-22 12:39:32.879554: W tensorflow/core/lib/png/png_io.cc:88] PNG warning: iCCP: profile 'ICC Profile': 0h: PCS illuminant is not D50\n"
     ]
    },
    {
     "name": "stdout",
     "output_type": "stream",
     "text": [
      "18/18 [==============================] - 11s 549ms/step - loss: 0.1433 - accuracy: 0.9670 - val_loss: 0.2226 - val_accuracy: 0.9500\n",
      "Epoch 17/20\n"
     ]
    },
    {
     "name": "stderr",
     "output_type": "stream",
     "text": [
      "2023-10-22 12:39:34.305473: W tensorflow/core/lib/png/png_io.cc:88] PNG warning: iCCP: known incorrect sRGB profile\n",
      "2023-10-22 12:39:34.663383: W tensorflow/core/lib/png/png_io.cc:88] PNG warning: iCCP: known incorrect sRGB profile\n",
      "2023-10-22 12:39:34.663424: W tensorflow/core/lib/png/png_io.cc:88] PNG warning: iCCP: cHRM chunk does not match sRGB\n"
     ]
    },
    {
     "name": "stdout",
     "output_type": "stream",
     "text": [
      " 3/18 [====>.........................] - ETA: 5s - loss: 0.2488 - accuracy: 0.9583"
     ]
    },
    {
     "name": "stderr",
     "output_type": "stream",
     "text": [
      "2023-10-22 12:39:35.811276: W tensorflow/core/lib/png/png_io.cc:88] PNG warning: iCCP: profile 'ICC Profile': 0h: PCS illuminant is not D50\n",
      "2023-10-22 12:39:35.830755: W tensorflow/core/lib/png/png_io.cc:88] PNG warning: iCCP: known incorrect sRGB profile\n"
     ]
    },
    {
     "name": "stdout",
     "output_type": "stream",
     "text": [
      " 7/18 [==========>...................] - ETA: 3s - loss: 0.1434 - accuracy: 0.9732"
     ]
    },
    {
     "name": "stderr",
     "output_type": "stream",
     "text": [
      "2023-10-22 12:39:37.218648: W tensorflow/core/lib/png/png_io.cc:88] PNG warning: iCCP: profile 'ICC Profile': 0h: PCS illuminant is not D50\n"
     ]
    },
    {
     "name": "stdout",
     "output_type": "stream",
     "text": [
      "18/18 [==============================] - ETA: 0s - loss: 0.1279 - accuracy: 0.9688"
     ]
    },
    {
     "name": "stderr",
     "output_type": "stream",
     "text": [
      "2023-10-22 12:39:41.353667: W tensorflow/core/lib/png/png_io.cc:88] PNG warning: iCCP: known incorrect sRGB profile\n",
      "2023-10-22 12:39:41.717110: W tensorflow/core/lib/png/png_io.cc:88] PNG warning: iCCP: known incorrect sRGB profile\n",
      "2023-10-22 12:39:41.717148: W tensorflow/core/lib/png/png_io.cc:88] PNG warning: iCCP: cHRM chunk does not match sRGB\n",
      "2023-10-22 12:39:42.554030: W tensorflow/core/lib/png/png_io.cc:88] PNG warning: iCCP: profile 'ICC Profile': 0h: PCS illuminant is not D50\n",
      "2023-10-22 12:39:42.570930: W tensorflow/core/lib/png/png_io.cc:88] PNG warning: iCCP: known incorrect sRGB profile\n",
      "2023-10-22 12:39:43.519837: W tensorflow/core/lib/png/png_io.cc:88] PNG warning: iCCP: profile 'ICC Profile': 0h: PCS illuminant is not D50\n"
     ]
    },
    {
     "name": "stdout",
     "output_type": "stream",
     "text": [
      "18/18 [==============================] - 11s 547ms/step - loss: 0.1279 - accuracy: 0.9688 - val_loss: 0.1839 - val_accuracy: 0.9750\n",
      "Epoch 18/20\n"
     ]
    },
    {
     "name": "stderr",
     "output_type": "stream",
     "text": [
      "2023-10-22 12:39:44.923374: W tensorflow/core/lib/png/png_io.cc:88] PNG warning: iCCP: known incorrect sRGB profile\n",
      "2023-10-22 12:39:45.279928: W tensorflow/core/lib/png/png_io.cc:88] PNG warning: iCCP: known incorrect sRGB profile\n",
      "2023-10-22 12:39:45.279966: W tensorflow/core/lib/png/png_io.cc:88] PNG warning: iCCP: cHRM chunk does not match sRGB\n"
     ]
    },
    {
     "name": "stdout",
     "output_type": "stream",
     "text": [
      " 3/18 [====>.........................] - ETA: 5s - loss: 0.0626 - accuracy: 0.9688"
     ]
    },
    {
     "name": "stderr",
     "output_type": "stream",
     "text": [
      "2023-10-22 12:39:46.416735: W tensorflow/core/lib/png/png_io.cc:88] PNG warning: iCCP: profile 'ICC Profile': 0h: PCS illuminant is not D50\n",
      "2023-10-22 12:39:46.437486: W tensorflow/core/lib/png/png_io.cc:88] PNG warning: iCCP: known incorrect sRGB profile\n"
     ]
    },
    {
     "name": "stdout",
     "output_type": "stream",
     "text": [
      " 7/18 [==========>...................] - ETA: 3s - loss: 0.0951 - accuracy: 0.9777"
     ]
    },
    {
     "name": "stderr",
     "output_type": "stream",
     "text": [
      "2023-10-22 12:39:47.877185: W tensorflow/core/lib/png/png_io.cc:88] PNG warning: iCCP: profile 'ICC Profile': 0h: PCS illuminant is not D50\n"
     ]
    },
    {
     "name": "stdout",
     "output_type": "stream",
     "text": [
      "18/18 [==============================] - ETA: 0s - loss: 0.0959 - accuracy: 0.9774"
     ]
    },
    {
     "name": "stderr",
     "output_type": "stream",
     "text": [
      "2023-10-22 12:39:52.051649: W tensorflow/core/lib/png/png_io.cc:88] PNG warning: iCCP: known incorrect sRGB profile\n",
      "2023-10-22 12:39:52.411897: W tensorflow/core/lib/png/png_io.cc:88] PNG warning: iCCP: known incorrect sRGB profile\n",
      "2023-10-22 12:39:52.411936: W tensorflow/core/lib/png/png_io.cc:88] PNG warning: iCCP: cHRM chunk does not match sRGB\n",
      "2023-10-22 12:39:53.237949: W tensorflow/core/lib/png/png_io.cc:88] PNG warning: iCCP: profile 'ICC Profile': 0h: PCS illuminant is not D50\n",
      "2023-10-22 12:39:53.255015: W tensorflow/core/lib/png/png_io.cc:88] PNG warning: iCCP: known incorrect sRGB profile\n",
      "2023-10-22 12:39:54.212157: W tensorflow/core/lib/png/png_io.cc:88] PNG warning: iCCP: profile 'ICC Profile': 0h: PCS illuminant is not D50\n"
     ]
    },
    {
     "name": "stdout",
     "output_type": "stream",
     "text": [
      "18/18 [==============================] - 11s 551ms/step - loss: 0.0959 - accuracy: 0.9774 - val_loss: 0.1998 - val_accuracy: 0.9500\n",
      "Epoch 19/20\n"
     ]
    },
    {
     "name": "stderr",
     "output_type": "stream",
     "text": [
      "2023-10-22 12:39:55.605736: W tensorflow/core/lib/png/png_io.cc:88] PNG warning: iCCP: known incorrect sRGB profile\n",
      "2023-10-22 12:39:55.967651: W tensorflow/core/lib/png/png_io.cc:88] PNG warning: iCCP: known incorrect sRGB profile\n",
      "2023-10-22 12:39:55.967727: W tensorflow/core/lib/png/png_io.cc:88] PNG warning: iCCP: cHRM chunk does not match sRGB\n"
     ]
    },
    {
     "name": "stdout",
     "output_type": "stream",
     "text": [
      " 3/18 [====>.........................] - ETA: 5s - loss: 0.0647 - accuracy: 0.9688"
     ]
    },
    {
     "name": "stderr",
     "output_type": "stream",
     "text": [
      "2023-10-22 12:39:57.127302: W tensorflow/core/lib/png/png_io.cc:88] PNG warning: iCCP: profile 'ICC Profile': 0h: PCS illuminant is not D50\n",
      "2023-10-22 12:39:57.147141: W tensorflow/core/lib/png/png_io.cc:88] PNG warning: iCCP: known incorrect sRGB profile\n"
     ]
    },
    {
     "name": "stdout",
     "output_type": "stream",
     "text": [
      " 7/18 [==========>...................] - ETA: 3s - loss: 0.0900 - accuracy: 0.9688"
     ]
    },
    {
     "name": "stderr",
     "output_type": "stream",
     "text": [
      "2023-10-22 12:39:58.562817: W tensorflow/core/lib/png/png_io.cc:88] PNG warning: iCCP: profile 'ICC Profile': 0h: PCS illuminant is not D50\n"
     ]
    },
    {
     "name": "stdout",
     "output_type": "stream",
     "text": [
      "18/18 [==============================] - ETA: 0s - loss: 0.0820 - accuracy: 0.9722"
     ]
    },
    {
     "name": "stderr",
     "output_type": "stream",
     "text": [
      "2023-10-22 12:40:02.681035: W tensorflow/core/lib/png/png_io.cc:88] PNG warning: iCCP: known incorrect sRGB profile\n",
      "2023-10-22 12:40:03.038910: W tensorflow/core/lib/png/png_io.cc:88] PNG warning: iCCP: known incorrect sRGB profile\n",
      "2023-10-22 12:40:03.038936: W tensorflow/core/lib/png/png_io.cc:88] PNG warning: iCCP: cHRM chunk does not match sRGB\n",
      "2023-10-22 12:40:03.870193: W tensorflow/core/lib/png/png_io.cc:88] PNG warning: iCCP: profile 'ICC Profile': 0h: PCS illuminant is not D50\n",
      "2023-10-22 12:40:03.885294: W tensorflow/core/lib/png/png_io.cc:88] PNG warning: iCCP: known incorrect sRGB profile\n",
      "2023-10-22 12:40:04.826197: W tensorflow/core/lib/png/png_io.cc:88] PNG warning: iCCP: profile 'ICC Profile': 0h: PCS illuminant is not D50\n"
     ]
    },
    {
     "name": "stdout",
     "output_type": "stream",
     "text": [
      "18/18 [==============================] - 11s 548ms/step - loss: 0.0820 - accuracy: 0.9722 - val_loss: 0.1392 - val_accuracy: 0.9500\n",
      "Epoch 20/20\n"
     ]
    },
    {
     "name": "stderr",
     "output_type": "stream",
     "text": [
      "2023-10-22 12:40:06.231850: W tensorflow/core/lib/png/png_io.cc:88] PNG warning: iCCP: known incorrect sRGB profile\n",
      "2023-10-22 12:40:06.591540: W tensorflow/core/lib/png/png_io.cc:88] PNG warning: iCCP: known incorrect sRGB profile\n",
      "2023-10-22 12:40:06.591582: W tensorflow/core/lib/png/png_io.cc:88] PNG warning: iCCP: cHRM chunk does not match sRGB\n"
     ]
    },
    {
     "name": "stdout",
     "output_type": "stream",
     "text": [
      " 3/18 [====>.........................] - ETA: 5s - loss: 0.0953 - accuracy: 0.9792"
     ]
    },
    {
     "name": "stderr",
     "output_type": "stream",
     "text": [
      "2023-10-22 12:40:07.736751: W tensorflow/core/lib/png/png_io.cc:88] PNG warning: iCCP: profile 'ICC Profile': 0h: PCS illuminant is not D50\n",
      "2023-10-22 12:40:07.756761: W tensorflow/core/lib/png/png_io.cc:88] PNG warning: iCCP: known incorrect sRGB profile\n"
     ]
    },
    {
     "name": "stdout",
     "output_type": "stream",
     "text": [
      " 7/18 [==========>...................] - ETA: 3s - loss: 0.0803 - accuracy: 0.9866"
     ]
    },
    {
     "name": "stderr",
     "output_type": "stream",
     "text": [
      "2023-10-22 12:40:09.163783: W tensorflow/core/lib/png/png_io.cc:88] PNG warning: iCCP: profile 'ICC Profile': 0h: PCS illuminant is not D50\n"
     ]
    },
    {
     "name": "stdout",
     "output_type": "stream",
     "text": [
      "18/18 [==============================] - ETA: 0s - loss: 0.1063 - accuracy: 0.9740"
     ]
    },
    {
     "name": "stderr",
     "output_type": "stream",
     "text": [
      "2023-10-22 12:40:13.292807: W tensorflow/core/lib/png/png_io.cc:88] PNG warning: iCCP: known incorrect sRGB profile\n",
      "2023-10-22 12:40:13.654118: W tensorflow/core/lib/png/png_io.cc:88] PNG warning: iCCP: known incorrect sRGB profile\n",
      "2023-10-22 12:40:13.654162: W tensorflow/core/lib/png/png_io.cc:88] PNG warning: iCCP: cHRM chunk does not match sRGB\n",
      "2023-10-22 12:40:14.475488: W tensorflow/core/lib/png/png_io.cc:88] PNG warning: iCCP: profile 'ICC Profile': 0h: PCS illuminant is not D50\n",
      "2023-10-22 12:40:14.492542: W tensorflow/core/lib/png/png_io.cc:88] PNG warning: iCCP: known incorrect sRGB profile\n",
      "2023-10-22 12:40:15.423422: W tensorflow/core/lib/png/png_io.cc:88] PNG warning: iCCP: profile 'ICC Profile': 0h: PCS illuminant is not D50\n"
     ]
    },
    {
     "name": "stdout",
     "output_type": "stream",
     "text": [
      "18/18 [==============================] - 11s 545ms/step - loss: 0.1063 - accuracy: 0.9740 - val_loss: 0.2332 - val_accuracy: 0.9563\n"
     ]
    }
   ],
   "source": [
    "hist = full_model.fit(train_model, epochs=20, validation_data=validation_model, callbacks=[tensorboard_call])\n",
    "#hist = full_model.fit(train_model, epochs=20, validation_data=validation_model, callbacks=[tensorboard_call])"
   ]
  },
  {
   "cell_type": "code",
   "execution_count": 64,
   "metadata": {},
   "outputs": [],
   "source": [
    "from tensorflow.keras.metrics import Precision, Recall, CategoricalAccuracy"
   ]
  },
  {
   "cell_type": "code",
   "execution_count": 65,
   "metadata": {},
   "outputs": [],
   "source": [
    "prec = Precision()\n",
    "rec = Recall()\n",
    "#BinAcc = BinaryAccuracy()\n",
    "CategoricalAccuracy = CategoricalAccuracy()"
   ]
  },
  {
   "cell_type": "code",
   "execution_count": 66,
   "metadata": {},
   "outputs": [
    {
     "name": "stderr",
     "output_type": "stream",
     "text": [
      "2023-10-22 14:29:05.406124: W tensorflow/core/lib/png/png_io.cc:88] PNG warning: iCCP: known incorrect sRGB profile\n",
      "2023-10-22 14:29:05.823559: W tensorflow/core/lib/png/png_io.cc:88] PNG warning: iCCP: known incorrect sRGB profile\n",
      "2023-10-22 14:29:05.823582: W tensorflow/core/lib/png/png_io.cc:88] PNG warning: iCCP: cHRM chunk does not match sRGB\n",
      "2023-10-22 14:29:06.776911: W tensorflow/core/lib/png/png_io.cc:88] PNG warning: iCCP: profile 'ICC Profile': 0h: PCS illuminant is not D50\n",
      "2023-10-22 14:29:06.794582: W tensorflow/core/lib/png/png_io.cc:88] PNG warning: iCCP: known incorrect sRGB profile\n",
      "2023-10-22 14:29:07.872979: W tensorflow/core/lib/png/png_io.cc:88] PNG warning: iCCP: profile 'ICC Profile': 0h: PCS illuminant is not D50\n"
     ]
    },
    {
     "name": "stdout",
     "output_type": "stream",
     "text": [
      "1/1 [==============================] - 0s 109ms/step\n",
      "1/1 [==============================] - 0s 101ms/step\n"
     ]
    }
   ],
   "source": [
    "for batches in test_model.as_numpy_iterator():\n",
    "    X, y = batches\n",
    "    y_hat = full_model.predict(X)\n",
    "    prec.update_state(y, y_hat)\n",
    "    rec.update_state(y, y_hat)\n",
    "    CategoricalAccuracy.update_state(y, y_hat)"
   ]
  },
  {
   "cell_type": "code",
   "execution_count": 82,
   "metadata": {},
   "outputs": [],
   "source": [
    "normal_test = cv2.imread('braintumortest.jpg')"
   ]
  },
  {
   "cell_type": "code",
   "execution_count": 83,
   "metadata": {},
   "outputs": [],
   "source": [
    "resize = tf.image.resize(normal_test, (256,256))"
   ]
  },
  {
   "cell_type": "markdown",
   "metadata": {},
   "source": []
  },
  {
   "cell_type": "code",
   "execution_count": 84,
   "metadata": {},
   "outputs": [
    {
     "name": "stdout",
     "output_type": "stream",
     "text": [
      "1/1 [==============================] - 0s 22ms/step\n"
     ]
    }
   ],
   "source": [
    "prediction = full_model.predict(np.expand_dims(resize/255, 0))"
   ]
  },
  {
   "cell_type": "code",
   "execution_count": 85,
   "metadata": {},
   "outputs": [
    {
     "data": {
      "text/plain": [
       "array([[9.8865591e-02, 8.9569700e-01, 5.3667910e-03, 7.0721646e-05]],\n",
       "      dtype=float32)"
      ]
     },
     "execution_count": 85,
     "metadata": {},
     "output_type": "execute_result"
    }
   ],
   "source": [
    "# [0,0,1,0] = normal brain\n",
    "# [1,0,0,0] = alzheimers\n",
    "# [0,1,0,0] brain tumor\n",
    "# [0,0,0,1] = parkinson's\n",
    "prediction"
   ]
  }
 ],
 "metadata": {
  "kernelspec": {
   "display_name": "imageclassification",
   "language": "python",
   "name": "imageclassification"
  },
  "language_info": {
   "codemirror_mode": {
    "name": "ipython",
    "version": 3
   },
   "file_extension": ".py",
   "mimetype": "text/x-python",
   "name": "python",
   "nbconvert_exporter": "python",
   "pygments_lexer": "ipython3",
   "version": "3.9.6"
  },
  "orig_nbformat": 4
 },
 "nbformat": 4,
 "nbformat_minor": 2
}